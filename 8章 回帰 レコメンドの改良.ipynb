{
 "cells": [
  {
   "cell_type": "markdown",
   "metadata": {},
   "source": [
    "- 回帰分析の改良\n",
    "- バスケット分析(どの商品が一緒に購入されたか)による推薦システム"
   ]
  },
  {
   "cell_type": "markdown",
   "metadata": {},
   "source": [
    "# まとめ\n",
    "- 映画の推薦システムの改良\n",
    "    - スコアではなく，どの映画にスコアをつけたかに注目\n",
    "        - スコアをつけた映画が似ているユーザのスコアを予測値とする手法\n",
    "            - 各ユーザの相関係数を利用する\n",
    "        - 逆に，スコアをつけたユーザが似ている映画に着目してみる手法\n",
    "    - アンサンブル学習: 上記の2つの手法のような，複数の手法を組み合わせて予測を行う手法\n",
    "        - 各手法の予測結果は新たな特徴量と考えられるので，回帰によって重み付けを行える．\n",
    "            - 重み付けの結果，重みの小さな特徴量は役に立たず，全体のパフォーマンスを下げる可能性もある．\n",
    "            - 複数の手法を簡単に比較検討する手段としても使える．\n",
    "- バスケット分析: 「この商品を買った人はこんな商品も買っています」\n",
    "    - どの商品が一緒に買われているかに着目する．\n",
    "        - あるユーザが複数の商品を買っている時，そのユーザが他にどんなものを買う傾向があるのかを予測できる．  \n",
    "        - 生活必需品など，多くの人が買わざるを得ない商品はユーザの趣味嗜好に関係がないので注意する．\n",
    "    - ベルギーのスーパーマーケットでの匿名トランザクションデータ, retail.datを使って実験\n",
    "    - 1. 頻出アイテム集合の列挙\n",
    "        - アプリオリアルゴリズム: 頻出アイテム集合: 頻繁に購入される商品の組み合わせ をトランザクション集合から列挙する．\n",
    "            - 購入頻度(支持度)が閾値(最小支持度)以上の商品1つによる集合を頻出アイテム集合とするところから始める\n",
    "            - 頻出アイテム集合に一つ頻出アイテムを追加し，その支持度を求め, それがまだ最小支持度以上ならば頻出アイテム集合として記録していく\n",
    "            - 新たな頻出アイテム集合がどのトランザクションに含まれているかをキャッシュすることによって高速化することができる．\n",
    "    - 2. アソシエーションルールマイニング\n",
    "        - 頻出アイテム集合の列挙を元に，アソシエーションルールの強さを導く\n",
    "            - アソシエーションルール: 「この商品の組みあわせXを買っている人はこの商品Yを買っている傾向がある」\n",
    "        - アソシエーションルールの強さの指標として，次のLIFT値を用いる. 誰もが買っている商品に対するペナルティを課している．\n",
    "            $$ lift(X \\Rightarrow Y) = \\frac{P(Y | X)}{P(Y)} $$\n",
    "        - 1で作成したキャッシュを利用することで高速化できる．\n",
    "    - 他にも，買い物の順序を考慮した手法などが，pyminingというパッケージで提供されている．"
   ]
  },
  {
   "cell_type": "markdown",
   "metadata": {},
   "source": [
    "# 推薦システムを改良する\n",
    "前章の映画スコアデータを使った推薦システムの改良  \n",
    "まずはデータの読みこみ"
   ]
  },
  {
   "cell_type": "code",
   "execution_count": 1,
   "metadata": {},
   "outputs": [
    {
     "name": "stdout",
     "output_type": "stream",
     "text": [
      "(943, 1682)\n"
     ]
    }
   ],
   "source": [
    "import numpy as np\n",
    "from scipy import sparse # 2次元スパース行列のためのパッケージ\n",
    "\n",
    "data = np.array([ [int(tok) for tok in line.split('\\t')[:3]] for line in open('./data/ml-100k/u.data')])\n",
    "ij = data[:, :2] # 誰が，どの映画を\n",
    "ij -= 1  # original data is in 1-based system\n",
    "values = data[:, 2] # 何点と評価したのか\n",
    "reviews = sparse.csc_matrix((values, ij.T)).astype(float) # ユーザ*映画 の Compressed Sparse Column matrix \n",
    "print(reviews.shape)"
   ]
  },
  {
   "cell_type": "markdown",
   "metadata": {},
   "source": [
    "## 二値行列を用いたレコメンド\n",
    "Netflix Challengeで興味深かったことは，スコアを知らなくても，どの映画に点数をつけたかで大体の予測がつくということ．  \n",
    "点数を可視化してみる．"
   ]
  },
  {
   "cell_type": "code",
   "execution_count": 2,
   "metadata": {
    "deletable": false,
    "editable": false,
    "run_control": {
     "frozen": true
    },
    "scrolled": true
   },
   "outputs": [
    {
     "data": {
      "text/plain": [
       "<matplotlib.image.AxesImage at 0x118964588>"
      ]
     },
     "execution_count": 2,
     "metadata": {},
     "output_type": "execute_result"
    },
    {
     "data": {
      "image/png": "[encoded data removed]",
      "text/plain": [
       "<Figure size 432x288 with 1 Axes>"
      ]
     },
     "metadata": {
      "needs_background": "light"
     },
     "output_type": "display_data"
    }
   ],
   "source": [
    "import matplotlib.pyplot as plt\n",
    "%matplotlib inline\n",
    "\n",
    "imagedata = reviews[:200, :200].todense() # 疎行列形式から通常の行列に戻す\n",
    "plt.imshow(imagedata, interpolation='nearest') # interpolation: 補完．小数だったりする値を近い方の整数値に寄せる"
   ]
  },
  {
   "cell_type": "markdown",
   "metadata": {},
   "source": [
    "映画のスコア予測のために，二値行列を利用する．  \n",
    "1. 各ユーザごとに他のユーザを2値ベクトルの相関係数順にランク付けする．\n",
    "2. 対象の映画に点数をつけている何人かの類似ユーザのスコアを参考に，スコアを予測する．  "
   ]
  },
  {
   "cell_type": "code",
   "execution_count": 2,
   "metadata": {},
   "outputs": [],
   "source": [
    "def all_correlations(bait, target):\n",
    "    '''\n",
    "    corrs = all_correlations(bait, target)\n",
    "    corrs[i] はbaitとtarget[i]の相関係数\n",
    "    '''\n",
    "    return np.array([np.corrcoef(bait, c)[0, 1] for c in target])"
   ]
  },
  {
   "cell_type": "code",
   "execution_count": 3,
   "metadata": {},
   "outputs": [],
   "source": [
    "# 定義式に沿って計算した方が早いらしい\n",
    "def all_correlations(y, X):\n",
    "    '''\n",
    "    Cs = all_correlations(y, X)\n",
    "\n",
    "    Cs[i] = np.corrcoef(y, X[i])[0,1]\n",
    "    '''\n",
    "    X = np.asanyarray(X, float)\n",
    "    y = np.asanyarray(y, float)\n",
    "    xy = np.dot(X, y)\n",
    "    y_ = y.mean()\n",
    "    ys_ = y.std()\n",
    "    x_ = X.mean(1)\n",
    "    xs_ = X.std(1)\n",
    "    n = float(len(y))\n",
    "    ys_ += 1e-5  # Handle zeros in ys\n",
    "    xs_ += 1e-5  # Handle zeros in x\n",
    "\n",
    "    return (xy - x_ * y_ * n) / n / xs_ / ys_\n"
   ]
  },
  {
   "cell_type": "markdown",
   "metadata": {},
   "source": [
    "まずは各ユーザに近い100人のユーザの平均をとってみる"
   ]
  },
  {
   "cell_type": "code",
   "execution_count": 4,
   "metadata": {},
   "outputs": [],
   "source": [
    "def estimate_user(user, rest):\n",
    "    '''\n",
    "    'rest' に基づいて, 'user'の映画スコアを予測する\n",
    "    '''\n",
    "    bu = user > 0 # userのレーティングを二値化\n",
    "    br = rest > 0 # restのレーティングを二値化\n",
    "    ws = all_correlations(bu, br)\n",
    "    \n",
    "    selected = ws.argsort()[-100:] # 相関係数の大きい順に100個インデックスを選ぶ\n",
    "    estimates = rest[selected].mean(0) # 平均値を元に予測する\n",
    "    \n",
    "    # ある映画は他の映画より多くのユーザから点数をつけられている\n",
    "    # それを考慮して，予測結果を修正する必要がある．\n",
    "    estimates /= (.1 + br[selected].mean(0))\n",
    "    \n",
    "    return estimates"
   ]
  },
  {
   "cell_type": "code",
   "execution_count": 27,
   "metadata": {
    "deletable": false,
    "editable": false,
    "run_control": {
     "frozen": true
    },
    "scrolled": true
   },
   "outputs": [
    {
     "name": "stdout",
     "output_type": "stream",
     "text": [
      "Average RMSE: 1.7369766471853734\n"
     ]
    }
   ],
   "source": [
    "rmses = []\n",
    "for i in range(reviews.shape[0]):\n",
    "    rmse = rmse_for(i)\n",
    "    rmses.append(rmse)\n",
    "\n",
    "print(f\"Average RMSE: {np.asarray(rmses).mean()}\")"
   ]
  },
  {
   "cell_type": "code",
   "execution_count": 5,
   "metadata": {},
   "outputs": [],
   "source": [
    "def train_test(user, rest):\n",
    "    estimates = estimate_user(user, rest)\n",
    "    bu = user > 0\n",
    "    br = rest > 0\n",
    "    err = estimates[bu] - user[bu]\n",
    "    null = rest.mean(0)\n",
    "    null /= (.1 + br.mean(0))\n",
    "    nerr = null[bu] - user[bu]\n",
    "    return np.dot(err, err), np.dot(nerr, nerr)\n",
    "\n",
    "\n",
    "def cross_validate_all(reviews):\n",
    "    err = []\n",
    "    reviews = reviews.toarray()\n",
    "    for i in range(reviews.shape[0]):\n",
    "        err.append( train_test(reviews[i], np.delete(reviews, i, 0)) )\n",
    "    revs = (reviews > 0).sum(1)\n",
    "    err = np.array(err)\n",
    "    rmse = np.sqrt(err / revs[:, None])\n",
    "    print(np.mean(rmse, 0))\n",
    "    print(np.mean(rmse[revs > 60], 0))\n",
    "\n",
    "\n",
    "def all_estimates_user(reviews):\n",
    "    reviews = reviews.toarray()\n",
    "    estimates = np.zeros_like(reviews)\n",
    "    for i in range(reviews.shape[0]):\n",
    "        estimates[i] = estimate_user(reviews[i], np.delete(reviews, i, 0))\n",
    "    return estimates"
   ]
  },
  {
   "cell_type": "code",
   "execution_count": 14,
   "metadata": {
    "deletable": false,
    "editable": false,
    "run_control": {
     "frozen": true
    },
    "scrolled": false
   },
   "outputs": [
    {
     "name": "stdout",
     "output_type": "stream",
     "text": [
      "[1.44212893 1.84657472]\n",
      "[1.4003051  1.86231581]\n"
     ]
    }
   ],
   "source": [
    "cross_validate_all(reviews)"
   ]
  },
  {
   "cell_type": "code",
   "execution_count": 11,
   "metadata": {
    "deletable": false,
    "editable": false,
    "run_control": {
     "frozen": true
    },
    "scrolled": true
   },
   "outputs": [
    {
     "data": {
      "text/plain": [
       "(943, 1682)"
      ]
     },
     "execution_count": 11,
     "metadata": {},
     "output_type": "execute_result"
    }
   ],
   "source": [
    "estimates = all_estimates_user(reviews)\n",
    "estimates.shape"
   ]
  },
  {
   "cell_type": "markdown",
   "metadata": {},
   "source": [
    "データセットの全ユーザを用いて予測した場合と比較すると20％良い結果らしい．  \n",
    "映画の点数をつける回数の多い上位半分のユーザを対象にすると25%誤差を減らせるらしい  \n",
    "誤差大きすぎ，20%も25%も何が変わっているのかわからない．意味不明"
   ]
  },
  {
   "cell_type": "markdown",
   "metadata": {},
   "source": [
    "## 類似映画について考える\n",
    "類似ユーザと同様に，類似映画を対象とした再近傍探索に基づく推薦システムを作成してみる  \n",
    "ユーザUの映画Mに対するレーティングを予測する場合，映画Mにもっとも似ている映画と同じレーティングを結果とする．  \n",
    "1. 映画の類似行列を計算(各映画に対して，どの映画がもっとも類似しているかを判定するための行列)\n",
    "2. その類似行列を基に，ユーザと映画の各組み合わせについて予測を行う．"
   ]
  },
  {
   "cell_type": "code",
   "execution_count": 6,
   "metadata": {},
   "outputs": [],
   "source": [
    "# 映画の類似行列を作成\n",
    "def movie_likeness_matrix(reviews):\n",
    "    reviews = reviews.toarray()\n",
    "    nmovies = reviews.shape[1]\n",
    "    movie_likeness = np.zeros( (nmovies, nmovies))\n",
    "    for i in range(nmovies):\n",
    "        movie_likeness[i] = all_correlations(reviews[:, i], reviews.T)\n",
    "        movie_likeness[i, i] = -1 # もっとも似ている映画は自分自身であるため，類似結果が自分自身であることを防ぐ．"
   ]
  },
  {
   "cell_type": "code",
   "execution_count": 29,
   "metadata": {
    "deletable": false,
    "editable": false,
    "run_control": {
     "frozen": true
    }
   },
   "outputs": [],
   "source": [
    "movie_likeness = movie_likeness_matrix(reviews)"
   ]
  },
  {
   "cell_type": "code",
   "execution_count": 7,
   "metadata": {},
   "outputs": [],
   "source": [
    "def nn_movie(movie_likeness, reviews, uid, mid): # uid: ユーザID, mid: 映画のID\n",
    "    likes = movie_likeness[mid].argsort()[::-1]\n",
    "    for ell in likes:\n",
    "        if reviews[uid, ell] > 0:\n",
    "            return reviews[uid, ell]"
   ]
  },
  {
   "cell_type": "code",
   "execution_count": 8,
   "metadata": {},
   "outputs": [],
   "source": [
    "# 平均を引いたりなんだりしたnn_movie\n",
    "def nn_movie(ureviews, reviews, uid, mid, k=1):\n",
    "    X = ureviews\n",
    "    y = ureviews[mid].copy()\n",
    "    y -= y.mean()\n",
    "    y /= (y.std() + 1e-5)\n",
    "    corrs = np.dot(X, y)\n",
    "    likes = corrs.argsort()[::-1]\n",
    "    c = 0\n",
    "    pred = 3.\n",
    "    for ell in likes:\n",
    "        if ell == mid:\n",
    "            continue\n",
    "        if reviews[uid, ell] > 0:\n",
    "            pred = reviews[uid, ell]\n",
    "            if c == k:\n",
    "                return pred\n",
    "            c += 1\n",
    "    return pred"
   ]
  },
  {
   "cell_type": "code",
   "execution_count": 9,
   "metadata": {},
   "outputs": [],
   "source": [
    "def all_estimates_movie(reviews, k=1):\n",
    "    reviews = reviews.astype(float)\n",
    "    k -= 1\n",
    "    nusers, nmovies = reviews.shape\n",
    "    estimates = np.zeros_like(reviews)\n",
    "    for u in range(nusers):\n",
    "        ureviews = np.delete(reviews, u, 0)\n",
    "        ureviews -= ureviews.mean(0)\n",
    "        ureviews /= (ureviews.std(0) + 1e-4)\n",
    "        ureviews = ureviews.T.copy()\n",
    "        for m in np.where(reviews[u] > 0)[0]:\n",
    "            estimates[u, m] = nn_movie(ureviews, reviews, u, m, k)\n",
    "    return estimates"
   ]
  },
  {
   "cell_type": "code",
   "execution_count": 25,
   "metadata": {
    "deletable": false,
    "editable": false,
    "run_control": {
     "frozen": true
    },
    "scrolled": true
   },
   "outputs": [
    {
     "name": "stdout",
     "output_type": "stream",
     "text": [
      "0.84539\n"
     ]
    }
   ],
   "source": [
    "arr_reviews = reviews.toarray()\n",
    "estimates = all_estimates_movie(arr_reviews)\n",
    "error = (estimates - arr_reviews)\n",
    "error **= 2\n",
    "error = error[arr_reviews > 0]\n",
    "print(np.sqrt(error).mean())"
   ]
  },
  {
   "cell_type": "markdown",
   "metadata": {},
   "source": [
    "いい結果．"
   ]
  },
  {
   "cell_type": "markdown",
   "metadata": {},
   "source": [
    "## 複数の手法を組み合わせる\n",
    "これまで解説した2つの手法を組み合わせて，一つの予測器を作る．  \n",
    "たとえば，両予測のスコア平均をとればいいが，ちょうど半分にする理由もない．  \n",
    "最適な重みをそれぞれの予測結果にかけてやる．その重みもデータから学習する．  \n",
    "<br>\n",
    "このように，複数の予測器の結果を組み合わせる手法をアンサンブル学習という．  \n",
    "興味深い点として，各予測器を新しい特徴量として考えることができる．  \n",
    "重みが大きい予測器はそのアイデアが有効であり，そうでないものは全体のパフォーマンスを下げることもある．"
   ]
  },
  {
   "cell_type": "code",
   "execution_count": 10,
   "metadata": {},
   "outputs": [],
   "source": [
    "# CV設定しろっていうワーニングをとりあえず止める\n",
    "import warnings\n",
    "warnings.filterwarnings('ignore')"
   ]
  },
  {
   "cell_type": "code",
   "execution_count": 11,
   "metadata": {},
   "outputs": [
    {
     "name": "stdout",
     "output_type": "stream",
     "text": [
      "data/ch08_estimates.pkl was loaded from the pickle file.\n"
     ]
    }
   ],
   "source": [
    "from utils import create_or_load_pickle\n",
    "from ch08 import similar_movie, corrneighbours, usermodel\n",
    "# これら3つはpython3への変換，アンサンブル学習ができるようにするための修正などを行なっている．\n",
    "\n",
    "# es(estimates?)に複数の手法の予測結果を格納\n",
    "def ensemble_results():\n",
    "    return np.array([\n",
    "        usermodel.all_estimates(reviews),\n",
    "        corrneighbours.all_estimates(reviews),\n",
    "        similar_movie.all_estimates(reviews)\n",
    "    ])\n",
    "\n",
    "ppath = \"data/ch08_estimates.pkl\"\n",
    "es = create_or_load_pickle(ppath, ensemble_results)"
   ]
  },
  {
   "cell_type": "code",
   "execution_count": 12,
   "metadata": {},
   "outputs": [],
   "source": [
    "from sklearn.linear_model import LinearRegression\n",
    "\n",
    "def ensemble(es, reviews):\n",
    "    reviews = reviews.toarray()\n",
    "    \n",
    "    reg = LinearRegression()\n",
    "    coefficients = []\n",
    "    rmses = []\n",
    "    # ホールドアウトクロスバリデーションのループを実行する．\n",
    "    for u in range(reviews.shape[0]):\n",
    "        es0 = np.delete(es, u, 1) # u番目のユーザを除く\n",
    "        r0 = np.delete(reviews, u, 0)\n",
    "        p0, p1 = np.where(r0 > 0) # 点数が付けれられている要素だけ対象とする\n",
    "        X = es[:, p0, p1]\n",
    "        y = r0[r0 > 0]\n",
    "        reg.fit(X.T, y)\n",
    "        coefficients.append(reg.coef_)\n",
    "\n",
    "        # 前と同様に誤差を計算する\n",
    "        r0 = reviews[u]\n",
    "        X = np.where(r0 > 0)\n",
    "        p0 = reg.predict(es[:, u, X].squeeze().T)\n",
    "        err0 = r0[r0 > 0] - p0\n",
    "        rmses.append(np.sqrt(float(np.dot(err0, err0)) / len(p0)))\n",
    "        # if u % 100 == 0: print(u)\n",
    "    \n",
    "    rmse = sum(rmses) / len(rmses)\n",
    "    mean_coefficients = np.array(coefficients).mean(0)\n",
    "    return rmse, mean_coefficients"
   ]
  },
  {
   "cell_type": "code",
   "execution_count": 48,
   "metadata": {
    "deletable": false,
    "editable": false,
    "run_control": {
     "frozen": true
    },
    "scrolled": true
   },
   "outputs": [
    {
     "name": "stdout",
     "output_type": "stream",
     "text": [
      "1.0412469582439583\n",
      "[0.41102879 0.23996764 0.04238856]\n"
     ]
    }
   ],
   "source": [
    "rmse, coefficients = ensemble(es, reviews)\n",
    "print(rmse)\n",
    "print(coefficients)"
   ]
  },
  {
   "cell_type": "markdown",
   "metadata": {},
   "source": [
    "結果，類似映画について予測を行う手法が一番大きい重みを持つことがわかる．  \n",
    "<br>\n",
    "ユーザの関連性に基づく手法はほとんど最終結果に影響を与えないことがわかるので用いないことにしてみる．  \n",
    "さらに，類似した順に映画を5本選び出し，それらを用いて予測を行うようにしてみる．"
   ]
  },
  {
   "cell_type": "code",
   "execution_count": 13,
   "metadata": {},
   "outputs": [
    {
     "name": "stdout",
     "output_type": "stream",
     "text": [
      "data/ch08_estimates5.pkl was loaded from the pickle file.\n"
     ]
    }
   ],
   "source": [
    "def ensemble5_results():\n",
    "    return np.array([\n",
    "        usermodel.all_estimates(reviews),\n",
    "        similar_movie.all_estimates(reviews, k=1),\n",
    "        similar_movie.all_estimates(reviews, k=2),\n",
    "        similar_movie.all_estimates(reviews, k=3),\n",
    "        similar_movie.all_estimates(reviews, k=4),\n",
    "        similar_movie.all_estimates(reviews, k=5),\n",
    "    ])\n",
    "\n",
    "ppath = \"data/ch08_estimates5.pkl\"\n",
    "es5 = create_or_load_pickle(ppath, ensemble5_results,)"
   ]
  },
  {
   "cell_type": "code",
   "execution_count": 56,
   "metadata": {
    "deletable": false,
    "editable": false,
    "run_control": {
     "frozen": true
    }
   },
   "outputs": [
    {
     "name": "stdout",
     "output_type": "stream",
     "text": [
      "1.0542720373241223\n",
      "[ 0.36640467  0.09482543  0.04697141  0.00818947 -0.00226993 -0.01020171]\n"
     ]
    }
   ],
   "source": [
    "rmse, coefficients= ensemble(es5, reviews)\n",
    "print(rmse)\n",
    "print(coefficients)"
   ]
  },
  {
   "cell_type": "markdown",
   "metadata": {},
   "source": [
    "少し悪化した．  \n",
    "最終的な結果はあまり良くなかったが，新たなアイデアを簡単にテストできることがわかった．  \n",
    "正しい評価を行うには，最終的なモデルが出来上がるまで手のつけられていないクリーンなデータを残しておくことが望ましい．"
   ]
  },
  {
   "cell_type": "markdown",
   "metadata": {},
   "source": [
    "## バスケット分析\n",
    "ユーザがあるアイテムをどれだけ気に入っているか数字で点数がつけられているようなデータがいつも手に入るとは限らない．  \n",
    "バスケット分析も，推薦システムを学習するための分析手法として利用できる．  \n",
    "バスケット分析は，どのアイテムが一緒に購入されているかを分析し，そのアイテムが気に入ったかどうかという情報は必要ない．  \n",
    "「この商品を買った人はこの商品も買っています」の他にも，メールで追加する送り先の予測，オススメのWebページを出力する機能が考えられる．  \n",
    "買い物の履歴の商品を全てまとめて分析を行なってもいい．  \n",
    "バスケット分析は，要はビールとオムツの話の分析である．  "
   ]
  },
  {
   "cell_type": "markdown",
   "metadata": {},
   "source": [
    "## 役立つ予測を行う\n",
    "この商品を買った人はこんな商品も買っています，を愚直に実行すると，人の趣味嗜好とは関係ない，生活必需品などが候補に上がってしまう．  \n",
    "求められているのは，「この商品を買った人は，これらの商品を買う傾向が統計的に平均より高い」ということ．  "
   ]
  },
  {
   "cell_type": "markdown",
   "metadata": {},
   "source": [
    "## スーパーの買い物かごを分析する\n",
    "ハッセルト大学のTom Brijsによって提供されている，ベルギーのスーパーマーケットでの匿名トランザクションデータを利用する．  \n",
    "商品は数字で表されるため，バスケットの中身は数字の集合として構成される．  データファイルは，retail.datという名前で用意されている．  \n",
    "次のシェルスクリプトで入手することができる．\n",
    "\n",
    "``` bash\n",
    "#!/usr/bin/env sh\n",
    "wget http://fimi.ua.ac.be/data/retail.dat.gz\n",
    "gunzip retail.dat.gz\n",
    "```"
   ]
  },
  {
   "cell_type": "code",
   "execution_count": 14,
   "metadata": {},
   "outputs": [],
   "source": [
    "from collections import defaultdict # キーが存在しない時に返すデフォルト関数を設定できる辞書\n",
    "from itertools import chain\n",
    "\n",
    "# 一度の買い物で購入された商品が行ごとに構成される． ex. 12 34 342 5 ...\n",
    "with open(\"data/retail.dat\", \"r\") as f:\n",
    "    dataset = [ [int(tok) for tok in line.strip().split()] for line in f]\n",
    "\n",
    "def get_counts(dataset):\n",
    "    # 各商品がどれだけ買われたかカウントする\n",
    "    counts = defaultdict(int) # int()は0を返すので，アクセスされた商品が存在しなかった時0を返すことになる．\n",
    "    for elem in chain(*dataset):  # 複数のイテレータを連続して一つにまとめたイテレータにする．つまり全ての買い物の商品を列挙．\n",
    "        counts[elem] += 1\n",
    "    return counts\n",
    "\n",
    "counts = get_counts(dataset)"
   ]
  },
  {
   "cell_type": "code",
   "execution_count": 15,
   "metadata": {},
   "outputs": [],
   "source": [
    "def count_purchases(f, t, dic):\n",
    "    count = 0\n",
    "    for purchases in dic.values():\n",
    "        if f <= purchases and purchases <= t:\n",
    "            count += 1\n",
    "    return count"
   ]
  },
  {
   "cell_type": "code",
   "execution_count": 40,
   "metadata": {
    "deletable": false,
    "editable": false,
    "run_control": {
     "frozen": true
    }
   },
   "outputs": [
    {
     "name": "stdout",
     "output_type": "stream",
     "text": [
      "購入回数: 該当する商品の数\n",
      "0~1回: 2224\n",
      "2~3回: 2438\n",
      "4~7回: 2508\n",
      "8~15回: 2251\n",
      "16~31回: 2182\n",
      "32~63回: 1940\n",
      "64~127回: 1523\n",
      "128~511回: 1225\n",
      "512~50675回: 179\n"
     ]
    }
   ],
   "source": [
    "purchase_targets = [(0, 1), (2, 3), (4, 7), (8, 15), (16, 31), (32, 63), (64, 127), (128, 511), (512, max(counts.values()))]\n",
    "\n",
    "print(\"購入回数: 該当する商品の数\")\n",
    "for f, t in purchase_targets:\n",
    "    print(f\"{f}~{t}回: {count_purchases(f, t, counts)}\")"
   ]
  },
  {
   "cell_type": "markdown",
   "metadata": {},
   "source": [
    "ほんの数回しか購入されない商品がほとんどである．  \n",
    "このような，多くの商品は少ししか売れない，という現象はロングテールとも呼ばれる．  \n",
    "<br>\n",
    "オープンソースでバスケット分析を行うアルゴリズムはいくつかあるが，sklearnなどにはないため，自力で実装する．  \n",
    "Aprioriアルゴリズムという，1994年にRakesh Agrawal, Ramakrishnan Srikantによって発表されたアルゴリズムを実装してみる．  \n",
    "<br>\n",
    "Aprioriアルゴリズムは，複数のバスケットを与えると，バスケットの中で一緒に買われることが多いアイテムの組み合わせを返す．  \n",
    "1つのアイテムを最小の集合として設定し，要素を一つづつ追加しながら集合を大きくしていく．  \n",
    "<br>\n",
    "ここでは，最小の支持度(アイテムが同時に購入された回数, support)を閾値として設定する．  \n",
    "アプリオリアルゴリズムの目標は，支持度の大きい組み合わせからなるアイテム集合である，頻出アイテム集合を列挙すること．  \n",
    "<br>\n",
    "例えば，閾値が80のとき，Aが120回購入されていれば，Aは頻出アイテム集合．  \n",
    "さらに，AとBが同時に購入されている回数が90回ならば，集合(A, B)は頻出アイテム集合．  \n",
    "しかし，AとBとCが同時に購入されている回数が70回になってしまったら，集合(A, B, C)は頻出アイテム集合ではない．  \n",
    "<br>\n",
    "必然的に，支持度の大きいアイテム集合では，それを構成する各アイテムの支持度も閾値より大きくなる．"
   ]
  },
  {
   "cell_type": "code",
   "execution_count": 16,
   "metadata": {},
   "outputs": [],
   "source": [
    "def naive_frequent_itemsets(dataset, minsupport=5, maxsize=5):\n",
    "    \n",
    "    counts = get_counts(dataset) # 各商品が購入された回数\n",
    "    \n",
    "    valid = set(k for k, v in counts.items() if (v >= minsupport)) # 頻出アイテムのリスト，閾値より大きい支持度を持つ要素による集合\n",
    "    \n",
    "    dataset = [[item for item in basket if (item in valid)] for basket in dataset] # 頻出アイテムのみからなるバスケットによるデータセットを作成\n",
    "    dataset = [frozenset(basket) for basket in dataset if len(basket) > 1] # 頻出アイテムでないアイテムのみからなるバスケットを無視\n",
    "    \n",
    "    last_frequent_sets = [frozenset([v]) for v in valid] # 全ての要素が一つの頻出アイテム集合， frozenset: 変更不可能な集合\n",
    "    \n",
    "    all_frequent_sets = [last_frequent_sets]\n",
    "    for i in range(maxsize-1): # 頻出アイテム集合の最大サイズになる．\n",
    "        new_frequent_sets = []\n",
    "\n",
    "        for fset in last_frequent_sets: # 全ての現在の頻出アイテム集合に対して\n",
    "            for new_fitem in valid: # 全ての頻出アイテムをぶつける\n",
    "                \n",
    "                # 頻出アイテム集合に新たな頻出アイテムを追加できればする．\n",
    "                if new_fitem not in fset: \n",
    "                    newset = ( fset | set([new_fitem]) )\n",
    "\n",
    "                    # 全てのバスケットのなかで，頻出アイテムを追加した頻出アイテム集合が何回出現するかを数える．\n",
    "                    # ここが遅い処理\n",
    "                    count_newset = 0\n",
    "                    for basket in dataset: \n",
    "                        if basket.issuperset(newset): # basketがnewsetを包含しているときTrue\n",
    "                            count_newset += 1\n",
    "                    \n",
    "                    # その頻出アイテム集合が購入された回数が支持度の閾値を超えたら，新たな頻出アイテム集合とする．\n",
    "                    if count_newset > minsupport: \n",
    "                        new_frequent_sets.append(newset)\n",
    "        \n",
    "        if len(new_frequent_sets) <= 0: break # もう頻出アイテム集合に新たな頻出アイテムを足しても閾値を超えるバスケットがないなら，ループをやめる\n",
    "        \n",
    "        all_frequent_sets.append(new_frequent_sets) # i+2個のアイテムの組み合わせによる頻出アイテム集合の集合を追加\n",
    "        last_frequent_sets = new_frequent_sets # 得られた頻出アイテム集合リストは次に回され，さらに頻出アイテムを追加，出現回数のカウントが行われる．\n",
    "\n",
    "    return all_frequent_sets # 頻出アイテム集合の列挙"
   ]
  },
  {
   "cell_type": "code",
   "execution_count": 17,
   "metadata": {
    "deletable": false,
    "editable": false,
    "run_control": {
     "frozen": true
    }
   },
   "outputs": [
    {
     "data": {
      "text/plain": [
       "[[frozenset({48}), frozenset({41}), frozenset({38}), frozenset({39})],\n",
       " [frozenset({39, 48}),\n",
       "  frozenset({38, 39}),\n",
       "  frozenset({39, 48}),\n",
       "  frozenset({38, 39})]]"
      ]
     },
     "execution_count": 17,
     "metadata": {},
     "output_type": "execute_result"
    }
   ],
   "source": [
    "naive_itemsets = naive_frequent_itemsets(dataset[:20])\n",
    "naive_itemsets"
   ]
  },
  {
   "cell_type": "markdown",
   "metadata": {},
   "source": [
    "全データセットを対象にループ処理でカウントすると時間がかかる．  \n",
    "どのバスケットに頻出アイテム集合があるかを記録することで, 全てのバスケットを探索する必要がなくなり，高速化できる．"
   ]
  },
  {
   "cell_type": "code",
   "execution_count": 17,
   "metadata": {},
   "outputs": [],
   "source": [
    "def frequent_itemsets(dataset, minsupport=80, maxsize=5):\n",
    "    \n",
    "    counts = get_counts(dataset)\n",
    "    \n",
    "    ### 追加部分: baskets と pointersを作成\n",
    "    baskets = defaultdict(list) # どのバスケットにも入っていないアイテムに対するアクセスには，空のリストを返す\n",
    "    pointers = defaultdict(list)\n",
    "    \n",
    "    for basket_id, basket in enumerate(dataset):\n",
    "        for item in basket:\n",
    "            # あるアイテムが，どのバスケットに入っているのか，アクセスできるようにする\n",
    "            pointers[item].append(basket_id)\n",
    "            \n",
    "            # あるアイテム一つによるアイテムセットが，どのバスケットに含まれるのか，アクセスできるようにする\n",
    "            baskets[frozenset([item])].append(basket_id)\n",
    "    \n",
    "    # defaultdictから通常のdictへの変換\n",
    "    baskets = dict([(k, frozenset(v)) for k, v in baskets.items()]) \n",
    "    pointers = dict([(k, frozenset(v)) for k, v in pointers.items()])\n",
    "    \n",
    "    ### 追加部分ここまで\n",
    "    \n",
    "    valid = set(k for k, v in counts.items() if (v >= minsupport))\n",
    "    \n",
    "    dataset = [[item for item in basket if (item in valid)] for basket in dataset]\n",
    "    dataset = [frozenset(basket) for basket in dataset if len(basket) > 1]\n",
    "    \n",
    "    last_frequent_sets = [frozenset([v]) for v in valid]\n",
    "    \n",
    "    all_frequent_sets = []\n",
    "    \n",
    "    print(f\"サイズが 1 の頻出アイテム集合の数: {len(last_frequent_sets)}\")\n",
    "          \n",
    "    for i in range(maxsize-1):\n",
    "        new_frequent_sets = []\n",
    "          \n",
    "        for fset in last_frequent_sets:\n",
    "            \n",
    "            ### 変更部分: baskets, pointersによる頻出アイテム集合判定の高速化\n",
    "            filtered_baskets = baskets[fset] # fsetに入っている全ての商品を含むバスケットを取得\n",
    "            \n",
    "            for new_fitem, baskets_with_new_fitem in pointers.items():\n",
    "                \n",
    "                if new_fitem not in fset:\n",
    "                    \n",
    "                    # 対象となるバスケットの商品全てと新しいアイテムを含むバスケットを取得\n",
    "                    new_filtered_baskets = (filtered_baskets & baskets_with_new_fitem)\n",
    "                    \n",
    "                    # フィルター条件をくぐり抜けたバスケットの個数が閾値を超えていたら新たな頻出アイテム集合とする\n",
    "                    if len(new_filtered_baskets) >= minsupport: \n",
    "                        new_frequent_set = frozenset(fset | set([new_fitem]))\n",
    "                        \n",
    "                        if new_frequent_set not in baskets: # すでに記録した頻出アイテムは新たに記録しない\n",
    "                            new_frequent_sets.append(new_frequent_set)\n",
    "                            baskets[new_frequent_set] = new_filtered_baskets # 新たな頻出アイテム集合をキーとする，次のfiltered_baskets\n",
    "                            # ↑これはある意味DP\n",
    "\n",
    "            ### 変更部分ここまで\n",
    "        \n",
    "        all_frequent_sets.extend(last_frequent_sets)\n",
    "        last_frequent_sets = new_frequent_sets\n",
    "        \n",
    "        # 1つの商品に対して複数の商品との組み合わせの数を数えるので，2回目には増える\n",
    "        print(f\"サイズが {i + 2} の頻出アイテム集合の数: {len(new_frequent_sets)}\")\n",
    "        \n",
    "        if len(new_frequent_sets) <= 0: break\n",
    "    \n",
    "    return (all_frequent_sets, baskets)"
   ]
  },
  {
   "cell_type": "code",
   "execution_count": 48,
   "metadata": {
    "deletable": false,
    "editable": false,
    "run_control": {
     "frozen": true
    },
    "scrolled": true
   },
   "outputs": [
    {
     "name": "stdout",
     "output_type": "stream",
     "text": [
      "サイズが 1 の頻出アイテム集合の数: 2370\n",
      "サイズが 2 の頻出アイテム集合の数: 3797\n",
      "サイズが 3 の頻出アイテム集合の数: 2131\n",
      "サイズが 4 の頻出アイテム集合の数: 483\n",
      "サイズが 5 の頻出アイテム集合の数: 47\n",
      "New pickle file data/ch08_apriori.pkl created.\n"
     ]
    },
    {
     "data": {
      "text/plain": [
       "8781"
      ]
     },
     "execution_count": 48,
     "metadata": {},
     "output_type": "execute_result"
    }
   ],
   "source": [
    "func = lambda : frequent_itemsets(dataset)\n",
    "itemsets, baskets = create_or_load_pickle(\"data/ch08_apriori.pkl\", func, create_new=True)\n",
    "len(itemsets)"
   ]
  },
  {
   "cell_type": "code",
   "execution_count": 18,
   "metadata": {
    "scrolled": true
   },
   "outputs": [
    {
     "name": "stdout",
     "output_type": "stream",
     "text": [
      "data/ch08_apriori.pkl was loaded from the pickle file.\n"
     ]
    }
   ],
   "source": [
    "func = lambda : frequent_itemsets(dataset)\n",
    "freqsets, baskets = create_or_load_pickle(\"data/ch08_apriori.pkl\", func, create_new=False)"
   ]
  },
  {
   "cell_type": "markdown",
   "metadata": {},
   "source": [
    "アプリオリアルゴリズムは，頻出アイテム集合，つまり，閾値より大きい支持度を持つ組み合わせからなるアイテム集合の列挙を返す．"
   ]
  },
  {
   "cell_type": "markdown",
   "metadata": {},
   "source": [
    "## アソシエーション・ルール・マイニング\n",
    "頻出アイテム集合それ自体では，役に立たない．  \n",
    "バスケット分析は，アソシエーションルールというものを見つけることが最終的な目標であるため，アソシエーションルールマイニングとも呼ばれる．  \n",
    "<br>\n",
    "アソシエーションルールとは，「Xを買った人はYも買う傾向がある」というようなルールのこと．  \n",
    "これは条件付き確率$P(Y|X)$のようなものである．  \n",
    "また，X, Yには, (X1, X2, X3), (Y1, Y2, Y3)のように，複数の商品が入っても良い．  \n",
    "<br>\n",
    "必需品など，個人の嗜好による購入ではない商品を選びたくないため，次のリフト値と呼ばれる指標を用いる．  \n",
    "$$ lift(X \\Rightarrow Y) = \\frac{P(Y | X)}{P(Y)} $$\n",
    "リフト値は，大きいほど強いアソシエーションルールの傾向があると言える．  \n",
    "分母であるP(Y)，つまりYが購入されることが多いほどリフト値は小さくなるようになっている．  \n",
    "リフト値は少なくても10, 場合によっては100程度の値になることがある．  \n",
    "<br>\n",
    "次のコードでリフト値を求めていく．"
   ]
  },
  {
   "cell_type": "code",
   "execution_count": 19,
   "metadata": {},
   "outputs": [],
   "source": [
    "# 一つの頻出アイテム集合からリフト値を求める，ナイーブな関数\n",
    "def naive_lift_from_itemset(itemset, dataset):\n",
    "    itemset = frozenset(itemset)\n",
    "    n_transactions = float(len(dataset))\n",
    "    \n",
    "    lifts = []\n",
    "    for item in itemset:\n",
    "        consequent = frozenset([item]) \n",
    "        antecendent = itemset - consequent\n",
    "        \n",
    "        base = 0.0 # 結果アイテムの出現回数\n",
    "        acount = 0.0 # 条件アイテム集合の出現回数\n",
    "        ccount = 0.0 # 結果アイテムの出現回数\n",
    "        \n",
    "        # 頻出アイテム集合のアイテム全てに対して，データセット内の全てのバスケットを探索してリフト値計算の材料を集めるので時間がかかる\n",
    "        for basket in dataset:\n",
    "            basket = frozenset(basket)\n",
    "            if item in basket: base += 1 # 結果アイテムを含むバスケットの数\n",
    "            if basket.issuperset(antecendent): acount += 1 # 条件アイテム集合を全て含むバスケットの数\n",
    "            if basket.issuperset(itemset): ccount += 1# 結果アイテムと条件アイテムを全て含むバスケットの数\n",
    "        \n",
    "        # 式にしたがってリフト値を計算\n",
    "        base /= n_transactions\n",
    "        p_y_given_x = ccount / acount \n",
    "        lift = p_y_given_x / base\n",
    "        \n",
    "        lifts.append([antecendent, consequent, lift])\n",
    "        \n",
    "        # print(f\"Rule {antecendent} -> {consequent} has lift {lift}\")\n",
    "    \n",
    "    return np.array(lifts)"
   ]
  },
  {
   "cell_type": "code",
   "execution_count": 38,
   "metadata": {
    "deletable": false,
    "editable": false,
    "run_control": {
     "frozen": true
    }
   },
   "outputs": [
    {
     "name": "stdout",
     "output_type": "stream",
     "text": [
      "All Frequent Item Sets: 483\n",
      "Rule for frozenset({32, 16010, 16011, 39}): frozenset({32, 16011, 39}) -> frozenset({16010}) has lift 66.23967760663912\n",
      "Rule for frozenset({32, 48, 16011, 16010}): frozenset({32, 48, 16010}) -> frozenset({16011}) has lift 69.3588230666352\n",
      "Rule for frozenset({16010, 16011, 38, 39}): frozenset({16010, 38, 39}) -> frozenset({16011}) has lift 67.1341061003469\n",
      "Rule for frozenset({41, 16010, 16011, 39}): frozenset({41, 16010, 39}) -> frozenset({16011}) has lift 68.03949762786768\n",
      "Rule for frozenset({48, 2505, 2284, 39}): frozenset({48, 2284, 39}) -> frozenset({2505}) has lift 76.57800077663553\n",
      "Rule for frozenset({48, 16010, 16011, 39}): frozenset({48, 16010, 39}) -> frozenset({16011}) has lift 67.01189880785869\n",
      "Rule for frozenset({48, 39, 16430, 16431}): frozenset({48, 16430, 39}) -> frozenset({16431}) has lift 214.7130778421101\n",
      "Rule for frozenset({48, 41, 16010, 16011}): frozenset({48, 41, 16010}) -> frozenset({16011}) has lift 66.51841412200156\n",
      "Rule for frozenset({795, 1818, 1819, 3311}): frozenset({1818, 795, 3311}) -> frozenset({1819}) has lift 318.106893181989\n"
     ]
    }
   ],
   "source": [
    "itemsets = [f for f in freqsets if len(f) > 1] # 1つの商品ではアソシエーションルールがないので，2つ以上の商品からなる頻出アイテム集合に絞る\n",
    "itemsets = [f for f in itemsets if len(f) > 3] # さらに，2つや3つの商品でのアソシエーションルールでは面白くないのでさらに絞る\n",
    "\n",
    "minlift = 50 # リフト値が小さいものは出力したくない\n",
    "\n",
    "print(f\"All Frequent Item Sets: {len(itemsets)}\")\n",
    "\n",
    "for itemset in itemsets:\n",
    "    lifts = naive_lift_from_itemset(itemset, dataset)\n",
    "    best_lift = lifts[np.argsort(lifts[:, 2])[-1]]\n",
    "    \n",
    "    if best_lift[2] >= minlift:\n",
    "        print(f\"Rule for {itemset}: {best_lift[0]} -> {best_lift[1]} has lift {best_lift[2]}\")    "
   ]
  },
  {
   "cell_type": "markdown",
   "metadata": {},
   "source": [
    "上記の方法では，全ての頻出アイテム集合 × 頻出アイテム集合内の全てのアイテム × 全てのトランザクション のオーダーなので時間がかかる．  \n",
    "「どの頻出アイテム集合がどのバスケットに入っているか」を列挙したbasketが，頻出アイテム集合を作成した時に同時に手に入る.  \n",
    "これを利用して高速化する．"
   ]
  },
  {
   "cell_type": "code",
   "execution_count": 20,
   "metadata": {},
   "outputs": [],
   "source": [
    "def association_rules(dataset, freqsets, baskets, minlift):\n",
    "    n_transactions = float(len(dataset)) # データセット全体におけるバスケットの総数\n",
    "    freqsets = [f for f in freqsets if len(f) > 1] # 1つの商品ではアソシエーションルールがないので，2つ以上の商品からなる頻出アイテム集合に絞る\n",
    "    \n",
    "    for fset in freqsets: # 全ての頻出アイテム集合について，\n",
    "        for fset_item in fset: # 結果アイテム1つとそれ以外を分離する全ての組み合わせでリフト値を求める\n",
    "            \n",
    "            consequent = frozenset([fset_item]) # 結果アイテム単体による集合\n",
    "            antecendent = frozenset(fset) - consequent # 条件アイテムの集合\n",
    "            \n",
    "            # データセット内の全てのバスケットを見るのではなく，「どの商品群がどのバスケットに含まれているか」がわかるbaskets集合を利用すればループ回数が減る\n",
    "            base = len(baskets[consequent]) / n_transactions # 分母のP(Y), 結果商品の出現確率\n",
    "            py_x = len(baskets[fset]) / float(len(baskets[antecendent])) #  分子の P(Y|X), Xが全て購入された条件下でのYが購入される確率\n",
    "            # P(Y|X) = P(X, Y) / P(X) = P(fset) / P(ant) = (|b_fset| / |transactions|) / (|b_ant| / |transactions|) = |b_fset| / |b_ant|\n",
    "            \n",
    "            lift = py_x / base # 式に従いリフト値を求める\n",
    "            \n",
    "            if lift > minlift: # リフト値が低いものは出力しない\n",
    "                yield (antecendent, consequent, base, py_x, lift) # yield, 一旦この値をリターンし，再度関数が呼ばれた時にここの続きから実行していく"
   ]
  },
  {
   "cell_type": "code",
   "execution_count": 31,
   "metadata": {
    "deletable": false,
    "editable": false,
    "run_control": {
     "frozen": true
    }
   },
   "outputs": [
    {
     "name": "stdout",
     "output_type": "stream",
     "text": [
      "{ant}[条件アイテムの数] -> {con}[結果アイテムの数]: LIFT = LIFT値 = (Itemset[Itemsetの数] / Antecendent[Xの数]) / Base[Yの確率]\n",
      "8781\n",
      "frozenset({699})[152] -> frozenset({696})[156]: LIFT = 338 = (Itemset[91] / Antecendent[152]) / Base[0.00176947] \n",
      "frozenset({696})[156] -> frozenset({699})[152]: LIFT = 338 = (Itemset[91] / Antecendent[156]) / Base[0.0017241] \n",
      "frozenset({4486})[147] -> frozenset({1219})[159]: LIFT = 313 = (Itemset[83] / Antecendent[147]) / Base[0.0018035] \n",
      "frozenset({1219})[159] -> frozenset({4486})[147]: LIFT = 313 = (Itemset[83] / Antecendent[159]) / Base[0.00166739] \n",
      "frozenset({3535})[204] -> frozenset({3402})[177]: LIFT = 305 = (Itemset[125] / Antecendent[204]) / Base[0.00200767] \n",
      "frozenset({3402})[177] -> frozenset({3535})[204]: LIFT = 305 = (Itemset[125] / Antecendent[177]) / Base[0.00231392] \n",
      "frozenset({3535, 39})[140] -> frozenset({3402})[177]: LIFT = 305 = (Itemset[86] / Antecendent[140]) / Base[0.00200767] \n",
      "frozenset({3402, 39})[119] -> frozenset({3535})[204]: LIFT = 312 = (Itemset[86] / Antecendent[119]) / Base[0.00231392] \n",
      "frozenset({3537, 3535})[130] -> frozenset({3402})[177]: LIFT = 325 = (Itemset[85] / Antecendent[130]) / Base[0.00200767] \n",
      "frozenset({3537, 3402})[107] -> frozenset({3535})[204]: LIFT = 343 = (Itemset[85] / Antecendent[107]) / Base[0.00231392] \n",
      "frozenset({1819, 795, 3311})[124] -> frozenset({1818})[226]: LIFT = 302 = (Itemset[96] / Antecendent[124]) / Base[0.00256346] \n",
      "frozenset({1818, 795, 3311})[106] -> frozenset({1819})[251]: LIFT = 318 = (Itemset[96] / Antecendent[106]) / Base[0.00284703] \n",
      "frozenset({1819, 1818, 795})[116] -> frozenset({3311})[241]: LIFT = 302 = (Itemset[96] / Antecendent[116]) / Base[0.0027336] \n"
     ]
    }
   ],
   "source": [
    "n_transactions = float(len(dataset))\n",
    "print(\"{ant}[条件アイテムの数] -> {con}[結果アイテムの数]: LIFT = LIFT値 = (Itemset[Itemsetの数] / Antecendent[Xの数]) / Base[Yの確率]\")\n",
    "\n",
    "print(len(freqsets))\n",
    "for ant, con, base, pyx, lift in association_rules(dataset, freqsets, baskets, 300): # あんまりたくさん出てこられても困るので閾値を高めに設定\n",
    "    n_ant = len(baskets[ant])\n",
    "    n_con = len(baskets[con])\n",
    "    n_iset = len(baskets[con | ant])\n",
    "    base = round(len(baskets[con]) / n_transactions, 8)\n",
    "    print(f'{ant}[{n_ant}] -> {con}[{n_con}]: LIFT = {int(lift)} = (Itemset[{n_iset}] / Antecendent[{n_ant}]) / Base[{base}] ')"
   ]
  },
  {
   "cell_type": "markdown",
   "metadata": {},
   "source": [
    "計算オーダは， 全ての頻出アイテム集合の数(8781) × 各頻出アイテム集合の要素(<5) × 1である．  \n",
    "datasetによるループをしなくなったので80000倍の速度向上になった．"
   ]
  },
  {
   "cell_type": "markdown",
   "metadata": {},
   "source": [
    "高いLIFTを持つアソシエーションルールは，この場合どれもBaseの値が0.2%程度である．  \n",
    "より正確なアソシエーションルールを作るには，何百万ものトランザクションデータが必要になる．  \n",
    "以上のアルゴリズムは高速に動作したが，そのようにデータが膨大な場合はその限りではない．  "
   ]
  },
  {
   "cell_type": "markdown",
   "metadata": {},
   "source": [
    "## より進んだバスケット分析\n",
    "買い物の順番を考慮した手法がある．  \n",
    "例えば「パーティーグッズを買う→ゴミ袋を買う」はあり得るが，「ゴミ袋を買う→パーティーグッズを買う」は考え難い，という関係を考慮に入れる．  \n",
    "<br>\n",
    "ここで話した先進的なバスケット分析のアルゴリズムは，pyminingというパッケージで提供されている．"
   ]
  }
 ],
 "metadata": {
  "kernelspec": {
   "display_name": "Python 3",
   "language": "python",
   "name": "python3"
  },
  "language_info": {
   "codemirror_mode": {
    "name": "ipython",
    "version": 3
   },
   "file_extension": ".py",
   "mimetype": "text/x-python",
   "name": "python",
   "nbconvert_exporter": "python",
   "pygments_lexer": "ipython3",
   "version": "3.6.5"
  }
 },
 "nbformat": 4,
 "nbformat_minor": 2
}
