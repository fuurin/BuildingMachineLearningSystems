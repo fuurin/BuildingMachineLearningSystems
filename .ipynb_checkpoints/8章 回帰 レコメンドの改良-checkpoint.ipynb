{
 "cells": [
  {
   "cell_type": "markdown",
   "metadata": {},
   "source": [
    "- 回帰分析の改良\n",
    "- バスケット分析(どの商品が一緒に購入されたか)による推薦システム"
   ]
  },
  {
   "cell_type": "markdown",
   "metadata": {},
   "source": [
    "# 推薦システムを改良する\n",
    "前章の映画スコアデータを使った推薦システムの改良  "
   ]
  },
  {
   "cell_type": "markdown",
   "metadata": {},
   "source": [
    "## 二値行列を用いたレコメンド\n",
    "Netflix Challengeで興味深かったことは，スコアを知らなくても，どの映画に点数をつけたかで大体の予測がつくということ．  \n",
    "点数を可視化してみる．"
   ]
  },
  {
   "cell_type": "code",
   "execution_count": 3,
   "metadata": {},
   "outputs": [
    {
     "name": "stdout",
     "output_type": "stream",
     "text": [
      "(943, 1682)\n"
     ]
    }
   ],
   "source": [
    "import numpy as np\n",
    "from scipy import sparse # 2次元スパース行列のためのパッケージ\n",
    "\n",
    "data = np.array([ [int(tok) for tok in line.split('\\t')[:3]] for line in open('./data/ml-100k/u.data')])\n",
    "ij = data[:, :2] # 誰が，どの映画を\n",
    "ij -= 1  # original data is in 1-based system\n",
    "values = data[:, 2] # 何点と評価したのか\n",
    "reviews = sparse.csc_matrix((values, ij.T)).astype(float) # ユーザ*映画 の Compressed Sparse Column matrix \n",
    "print(reviews.shape)"
   ]
  }
 ],
 "metadata": {
  "kernelspec": {
   "display_name": "Python 3",
   "language": "python",
   "name": "python3"
  },
  "language_info": {
   "codemirror_mode": {
    "name": "ipython",
    "version": 3
   },
   "file_extension": ".py",
   "mimetype": "text/x-python",
   "name": "python",
   "nbconvert_exporter": "python",
   "pygments_lexer": "ipython3",
   "version": "3.7.0"
  }
 },
 "nbformat": 4,
 "nbformat_minor": 2
}
