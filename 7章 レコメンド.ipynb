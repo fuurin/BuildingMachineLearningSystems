{
 "cells": [
  {
   "cell_type": "markdown",
   "metadata": {},
   "source": [
    "- 最小二乗法(ordinary least squares: OLS)による回帰をNumpy, sklearnで．  \n",
    "- 特徴量の方がサンプルデータより多いとOLSできないので，lasso, ridge, elastic netsという3つの手法を試す．\n",
    "- レコメンドという，応用範囲が広い重要な分野の基礎を学ぶ．"
   ]
  },
  {
   "cell_type": "markdown",
   "metadata": {},
   "source": [
    "# まとめ\n",
    "- 最小二乗法の復習\n",
    "    - sklearnのボストン物件価格データを利用\n",
    "    - 特徴量一つだけよりバイアスを加えた方が，さらにたくさん特徴量があった方が一般的に良い精度が出る．\n",
    "    - 回帰分析でも交差検定をして正しい汎化能力を確かめよう．\n",
    "    - 特徴量の数P > サンプル数N のとき，訓練誤差をほぼゼロにすることができるが，汎化能力が著しく落ちる．\n",
    "        - 10-K reportsのデータはP>Nとなっており，これでP>N問題を確かめた．\n",
    "    - 過学習対策\n",
    "        - Lasso: L1罰則項(回帰係数の絶対値の総和)をペナルティとする．\n",
    "            - スパースなモデルに．\n",
    "        - Ridge: L2罰則項(回帰係数の2乗の総和)をペナルティとする．\n",
    "        - Elastic Net: L1, L2の比率を設定し，それらの和を罰則項とする． \n",
    "            - P>N問題の解消，相関の高い特徴量からの複数考慮といった効果がある．\n",
    "- パラメータ探索には2段階の交差検定が必要\n",
    "    - 1段目： テストデータと訓練データに分ける\n",
    "    - 2段目： 1段目の訓練データをさらに分割し，それぞれ違ったパラメータを与えて訓練した結果，誤差が最少となったパラメータを採用\n",
    "- 映画の推薦問題を罰則付き回帰分析で解いてみる\n",
    "    - Netflix Challengeのアカデミック用データを利用\n",
    "    - ターゲットユーザ以外のユーザが行なった評価を特徴量としてLassoで解いてみた\n",
    "    - 全体の平均をスコアの予測値とするよりはLassoを使った方が8％ほどの精度改善が見られた．"
   ]
  },
  {
   "cell_type": "markdown",
   "metadata": {},
   "source": [
    "# 回帰を用いて物件価格を予想する\n",
    "ボストンの物件の価格を予想する問題を考える．  \n",
    "sklearnのデータセットを使って教師あり学習を行う．"
   ]
  },
  {
   "cell_type": "code",
   "execution_count": 1,
   "metadata": {},
   "outputs": [
    {
     "name": "stdout",
     "output_type": "stream",
     "text": [
      ".. _boston_dataset:\n",
      "\n",
      "Boston house prices dataset\n",
      "---------------------------\n",
      "\n",
      "**Data Set Characteristics:**  \n",
      "\n",
      "    :Number of Instances: 506 \n",
      "\n",
      "    :Number of Attributes: 13 numeric/categorical predictive. Median Value (attribute 14) is usually the target.\n",
      "\n",
      "    :Attribute Information (in order):\n",
      "        - CRIM     per capita crime rate by town\n",
      "        - ZN       proportion of residential land zoned for lots over 25,000 sq.ft.\n",
      "        - INDUS    proportion of non-retail business acres per town\n",
      "        - CHAS     Charles River dummy variable (= 1 if tract bounds river; 0 otherwise)\n",
      "        - NOX      nitric oxides concentration (parts per 10 million)\n",
      "        - RM       average number of rooms per dwelling\n",
      "        - AGE      proportion of owner-occupied units built prior to 1940\n",
      "        - DIS      weighted distances to five Boston employment centres\n",
      "        - RAD      index of accessibility to radial highways\n",
      "        - TAX      full-value property-tax rate per $10,000\n",
      "        - PTRATIO  pupil-teacher ratio by town\n",
      "        - B        1000(Bk - 0.63)^2 where Bk is the proportion of blacks by town\n",
      "        - LSTAT    % lower status of the population\n",
      "        - MEDV     Median value of owner-occupied homes in $1000's\n",
      "\n",
      "    :Missing Attribute Values: None\n",
      "\n",
      "    :Creator: Harrison, D. and Rubinfeld, D.L.\n",
      "\n",
      "This is a copy of UCI ML housing dataset.\n",
      "https://archive.ics.uci.edu/ml/machine-learning-databases/housing/\n",
      "\n",
      "\n",
      "This dataset was taken from the StatLib library which is maintained at Carnegie Mellon University.\n",
      "\n",
      "The Boston house-price data of Harrison, D. and Rubinfeld, D.L. 'Hedonic\n",
      "prices and the demand for clean air', J. Environ. Economics & Management,\n",
      "vol.5, 81-102, 1978.   Used in Belsley, Kuh & Welsch, 'Regression diagnostics\n",
      "...', Wiley, 1980.   N.B. Various transformations are used in the table on\n",
      "pages 244-261 of the latter.\n",
      "\n",
      "The Boston house-price data has been used in many machine learning papers that address regression\n",
      "problems.   \n",
      "     \n",
      ".. topic:: References\n",
      "\n",
      "   - Belsley, Kuh & Welsch, 'Regression diagnostics: Identifying Influential Data and Sources of Collinearity', Wiley, 1980. 244-261.\n",
      "   - Quinlan,R. (1993). Combining Instance-Based and Model-Based Learning. In Proceedings on the Tenth International Conference of Machine Learning, 236-243, University of Massachusetts, Amherst. Morgan Kaufmann.\n",
      "\n",
      "['CRIM' 'ZN' 'INDUS' 'CHAS' 'NOX' 'RM' 'AGE' 'DIS' 'RAD' 'TAX' 'PTRATIO'\n",
      " 'B' 'LSTAT']\n"
     ]
    }
   ],
   "source": [
    "from sklearn.datasets import load_boston\n",
    "boston = load_boston()\n",
    "print(boston.DESCR)\n",
    "print(boston.feature_names)"
   ]
  },
  {
   "cell_type": "markdown",
   "metadata": {},
   "source": [
    "まずは部屋の数の平均値と家の値段をプロットしていく．"
   ]
  },
  {
   "cell_type": "code",
   "execution_count": 2,
   "metadata": {},
   "outputs": [
    {
     "data": {
      "text/plain": [
       "<matplotlib.collections.PathCollection at 0x116f1da20>"
      ]
     },
     "execution_count": 2,
     "metadata": {},
     "output_type": "execute_result"
    },
    {
     "data": {
      "image/png": "[encoded data removed]",
      "text/plain": [
       "<Figure size 432x288 with 1 Axes>"
      ]
     },
     "metadata": {
      "needs_background": "light"
     },
     "output_type": "display_data"
    }
   ],
   "source": [
    "import numpy as np\n",
    "import matplotlib.pyplot as plt\n",
    "%matplotlib inline\n",
    "\n",
    "x = boston.data[:, 5]\n",
    "\n",
    "plt.scatter(x, boston.target)\n",
    "\n",
    "x = np.array([ [v] for v in x])\n",
    "y = boston.target\n",
    "slope, _, _, _ = np.linalg.lstsq(x, y, rcond=None) #[傾き, バイアス(あれば)], 誤差, ランク, 特異値. rcondはワーニング対策\n",
    "\n",
    "ran = np.arange(0, 10, 0.1)\n",
    "plt.scatter(ran, slope * ran)"
   ]
  },
  {
   "cell_type": "markdown",
   "metadata": {},
   "source": [
    "あまりうまくフィッティングできていない．  \n",
    "特徴量の要素が1つだけなので，家の値段 × 傾き = 家の値段 という式を最適化していることになるが，これは雑すぎる．  \n",
    "<br>\n",
    "次に，バイアス項を追加してみる．"
   ]
  },
  {
   "cell_type": "code",
   "execution_count": 3,
   "metadata": {
    "deletable": false,
    "editable": false,
    "run_control": {
     "frozen": true
    }
   },
   "outputs": [
    {
     "name": "stdout",
     "output_type": "stream",
     "text": [
      "6.6030713892225625\n"
     ]
    },
    {
     "data": {
      "image/png": "[encoded data removed]",
      "text/plain": [
       "<Figure size 432x288 with 1 Axes>"
      ]
     },
     "metadata": {
      "needs_background": "light"
     },
     "output_type": "display_data"
    }
   ],
   "source": [
    "x = boston.data[:, 5]\n",
    "\n",
    "plt.scatter(x, boston.target)\n",
    "\n",
    "x = np.array([ [v, 1] for v in x]) # バイアス項を追加するため，1を追加 y = ax + b = a x + b 1, この xと1に当たるところをlstsqに渡す．\n",
    "y = boston.target\n",
    "(slope, bias), total_error, _, _ = np.linalg.lstsq(x, y, rcond=None)\n",
    "\n",
    "ran = np.arange(0, 10, 0.05)\n",
    "plt.scatter(ran, slope * ran + bias)\n",
    "\n",
    "plt.xlim(3, 10)\n",
    "plt.ylim(0, 55)\n",
    "\n",
    "rmse = np.sqrt(total_error[0]/len(x))\n",
    "print(rmse)"
   ]
  },
  {
   "cell_type": "markdown",
   "metadata": {},
   "source": [
    "外れ値(outlier)にはうまく対応できていないが，結果は良くなっている．  \n",
    "<br>\n",
    "このモデルがどれだけうまくデータに適合できているか，定量的な評価を行うには，平均二乗平方根誤差(root mean squared error: RMSE)を求める．  \n",
    "バイアス項 あり：なし = 7.6:6.6 と改善されている．  \n",
    "<br>\n",
    "RMSEは標準偏差のようなものなので，誤差が正規分布に従うと仮定すると，ほとんどのデータはおおよそ平均値から標準誤差2つ分の範囲に収まる．  \n",
    "-2RMSE ~ 2RMSEの範囲は信頼区間(confidence interval)に相当する．  \n",
    "そのため，この結果からわかることは，我々が予測する家の値段の誤差は多くても$\\pm 6.6 \\times 2 \\times1000 = \\pm 13000$ドルの範囲に収まるであろうと言える．"
   ]
  },
  {
   "cell_type": "markdown",
   "metadata": {},
   "source": [
    "## 多次元回帰\n",
    "データを全て使って予測してみる．"
   ]
  },
  {
   "cell_type": "code",
   "execution_count": 4,
   "metadata": {
    "deletable": false,
    "editable": false,
    "run_control": {
     "frozen": true
    },
    "scrolled": true
   },
   "outputs": [
    {
     "name": "stdout",
     "output_type": "stream",
     "text": [
      "4.679191295697282\n"
     ]
    }
   ],
   "source": [
    "x = np.array([ np.concatenate((v, [1])) for v in boston.data])\n",
    "y = boston.target\n",
    "slope, total_error, _, _ = np.linalg.lstsq(x, y, rcond=None)\n",
    "rmse = np.sqrt(total_error[0]/len(x))\n",
    "print(rmse)"
   ]
  },
  {
   "cell_type": "markdown",
   "metadata": {},
   "source": [
    "データをたくさん使ったためか，誤差が改善された．  \n",
    "ここでは14次元の回帰を行なっているため，結果のプロットはできない．"
   ]
  },
  {
   "cell_type": "markdown",
   "metadata": {},
   "source": [
    "## 回帰における交差検定\n",
    "回帰における訓練誤差とテスト誤差の差はあまり大きくないことが予想されるが，それでも交差検定を行う．  \n",
    "ここからは，今後より進んだ手法への置き換えをスムーズにするために，sklearnのLinearRegressionを利用する．"
   ]
  },
  {
   "cell_type": "code",
   "execution_count": 3,
   "metadata": {},
   "outputs": [],
   "source": [
    "from sklearn.linear_model import LinearRegression\n",
    "\n",
    "def rmse(model, data, target):\n",
    "    p = model.predict(data).ravel() # 予測にはmapを使わず，直接データ全体を入力するようになった\n",
    "    e = p - target # インスタンスごとの誤差を得る\n",
    "    total_error = np.sum(e * e)\n",
    "    rmse = np.sqrt(total_error / len(p))\n",
    "    return rmse"
   ]
  },
  {
   "cell_type": "code",
   "execution_count": 4,
   "metadata": {},
   "outputs": [
    {
     "name": "stdout",
     "output_type": "stream",
     "text": [
      "RMSE of training: 6.603071389222561\n"
     ]
    }
   ],
   "source": [
    "lr = LinearRegression(fit_intercept=True) # fit_intercept: バイアス項を追加\n",
    "lr.fit(x, y)\n",
    "print(f\"RMSE of training: {rmse(lr, x, y)}\")"
   ]
  },
  {
   "cell_type": "markdown",
   "metadata": {},
   "source": [
    "numpyのRMSEとだいたい同じになった.  \n",
    "KFoldによって10分割の交差検定を行う．"
   ]
  },
  {
   "cell_type": "code",
   "execution_count": 5,
   "metadata": {},
   "outputs": [
    {
     "name": "stdout",
     "output_type": "stream",
     "text": [
      "RMSE on 10-fold CV: 5.941570588762131\n"
     ]
    }
   ],
   "source": [
    "from sklearn.model_selection import KFold\n",
    "\n",
    "def kfold_regression(model, x, y, n_splits=10):\n",
    "    kf = KFold(n_splits=n_splits)\n",
    "    rmses = []\n",
    "    for train, test in kf.split(x):\n",
    "        model.fit(x[train], y[train])\n",
    "        rmses.append(rmse(model, x[test], y[test]))\n",
    "    return np.asarray(rmses).mean()\n",
    "\n",
    "print(f\"RMSE on 10-fold CV: {kfold_regression(lr, x, y)}\")"
   ]
  },
  {
   "cell_type": "markdown",
   "metadata": {},
   "source": [
    "訓練誤差よりもテスト誤差は大きくなったが，汎化能力についてより正しい評価を行なっていると言える．  \n",
    "最小二乗法はモデルが単純で高速なため，最初に試してみるモデルとして良い．"
   ]
  },
  {
   "cell_type": "markdown",
   "metadata": {},
   "source": [
    "# 罰則付き回帰\n",
    "通常の回帰では過学習を起こすので，パラメータが過剰に適合することに対して罰則を追加する罰則付き回帰(penalized regression)を行なってみる．  \n",
    "罰則付き回帰はバイアス-バリアンスのトレードオフの一つとみることができる．  \n",
    "罰則を用いることは誤差(バイアス)を大きくすることであり，それはバリアンスを減らすことになるので訓練データに適合しすぎることを防ぐ．  \n",
    "よって全体の汎化能力はより高くなると期待できる．  "
   ]
  },
  {
   "cell_type": "markdown",
   "metadata": {},
   "source": [
    "## L1, L2罰則項\n",
    "まず，最小二乗法の最適化の式は以下\n",
    "$$ \\vec{b^*} = \\arg \\min_{\\vec{b}} (y - X \\vec{b})^2 $$\n",
    "L1罰則項(Lasso回帰): 係数の絶対値の和を追加， 誤差を小さくするだけでなく，最小限の係数で抑えようとする．->スパースなモデルに!(不要特徴量削減)\n",
    "$$ \\vec{b^*} = \\arg \\min_{\\vec{b}} (y - X \\vec{b})^2 + \\lambda \\sum_i | b_i | $$\n",
    "L2罰則項(Ridge回帰): 係数の二乗の和を追加\n",
    "$$ \\vec{b^*} = \\arg \\min_{\\vec{b}} (y - X \\vec{b})^2 + \\lambda \\sum_i b_i^2 $$\n",
    "<br>\n",
    "ここで$\\lambda$罰則項の強さを調整するパラメータ．  \n",
    "Lasso回帰とRidge回帰を合わせるとElastic netと呼ばれる手法になる．  \n",
    "$$ \\vec{b^*} = \\arg \\min_{\\vec{b}} (y - X \\vec{b})^2 + \\lambda \\sum_i \\Bigl\\{ \\alpha |b_i| + (1-\\alpha)b_i^2 \\Bigr\\} $$\n",
    "詳しくはこちら http://tekenuko.hatenablog.com/entry/2017/11/18/214317"
   ]
  },
  {
   "cell_type": "markdown",
   "metadata": {},
   "source": [
    "## scikit-learnのLassoとElastic netを使用する\n",
    "sklearnで先ほどの最小二乗法をElastic netによる回帰に簡単に差し替えられる．  \n",
    "L1罰則項を追加するにはLasso, L2罰則項を追加するにはRidgeクラスを使えばいい．"
   ]
  },
  {
   "cell_type": "code",
   "execution_count": 6,
   "metadata": {},
   "outputs": [
    {
     "name": "stdout",
     "output_type": "stream",
     "text": [
      "RMSE on 10-fold CV: 6.596253559088761\n"
     ]
    }
   ],
   "source": [
    "from sklearn.linear_model import ElasticNet\n",
    "en = ElasticNet(fit_intercept=True, alpha=0.5)\n",
    "print(f\"RMSE on 10-fold CV: {kfold_regression(en, x, y)}\")"
   ]
  },
  {
   "cell_type": "markdown",
   "metadata": {},
   "source": [
    "RMSEは5.18から5.11に減少．  "
   ]
  },
  {
   "cell_type": "markdown",
   "metadata": {},
   "source": [
    "# PがNより大きい場合\n",
    "特徴量の数Pがサンプル数Nより大きい場合の問題について考える．  \n",
    "例えば，テキストデータの単語1つ1つを特徴量とすると，特徴量の方が多くなりがちである．  \n",
    "サンプルより特徴量の方が多い時，訓練データに対して完全に当てはめることが可能になり，訓練誤差を0にできる．  \n",
    "なぜならば，連立方程式の数が変数の数より地位し場合，常に連立方程式の解を求められることと同じだからである．  \n",
    "しかしそれは，汎化能力が低くなってしまう原因となる．"
   ]
  },
  {
   "cell_type": "markdown",
   "metadata": {},
   "source": [
    "## テキストに基づいたサンプルデータ\n",
    "カーネギーメロン大学のNoah Smith教授らは米証券取引委員会(America SEC)に提出される決算報告書，10-K reportsのデータマイニングを研究している．  \n",
    "10-K reportsを元に株価の推移を予測したい．  \n",
    "16087のサンプルに対して，単語の種類を特徴量とすると150360個にも及ぶ．  \n",
    "データは次のシェルスクリプトでダウンロードできる．(mac, wgetはbrew install wget)"
   ]
  },
  {
   "cell_type": "markdown",
   "metadata": {},
   "source": [
    "``` bash\n",
    "#!/usr/bin/env bash\n",
    "wget http://www.csie.ntu.edu.tw/~cjlin/libsvmtools/datasets/regression/E2006.train.bz2\n",
    "bunzip2 E2006.train.bz2\n",
    "```"
   ]
  },
  {
   "cell_type": "markdown",
   "metadata": {},
   "source": [
    "データセットはSVMLightというSVM関連のツール用のフォーマットになっており，sklearnでロード可能"
   ]
  },
  {
   "cell_type": "code",
   "execution_count": 7,
   "metadata": {},
   "outputs": [],
   "source": [
    "from sklearn.datasets import load_svmlight_file\n",
    "data, target = load_svmlight_file('./data/E2006.train') # 10秒くらいかかる"
   ]
  },
  {
   "cell_type": "markdown",
   "metadata": {},
   "source": [
    "targetは単純な1次元のベクトルだが，dataはスパースな行列．  \n",
    "まずはtargetの各要素の値を見てみる．"
   ]
  },
  {
   "cell_type": "code",
   "execution_count": 10,
   "metadata": {
    "deletable": false,
    "editable": false,
    "run_control": {
     "frozen": true
    }
   },
   "outputs": [
    {
     "name": "stdout",
     "output_type": "stream",
     "text": [
      "Target shape: (16087,)\n",
      "Min target value: -7.89957807346873\n",
      "Max target value: -0.519409526940154\n",
      "Mean target value: -3.5140531366944456\n",
      "StdDev target: 0.6322783539114604\n"
     ]
    }
   ],
   "source": [
    "print(f'Target shape: {target.shape}')\n",
    "print(f'Min target value: {target.min()}')\n",
    "print(f'Max target value: {target.max()}')\n",
    "print(f'Mean target value: {target.mean()}')\n",
    "print(f'StdDev target: {target.std()}')"
   ]
  },
  {
   "cell_type": "markdown",
   "metadata": {},
   "source": [
    "一応dataの形も見ておく"
   ]
  },
  {
   "cell_type": "code",
   "execution_count": 8,
   "metadata": {},
   "outputs": [
    {
     "name": "stdout",
     "output_type": "stream",
     "text": [
      "Data shape: (16087, 150360)\n"
     ]
    }
   ],
   "source": [
    "print(f'Data shape: {data.shape}')\n",
    "# print(f'Data example: {data[0]}')"
   ]
  },
  {
   "cell_type": "markdown",
   "metadata": {},
   "source": [
    "とりあえずこのまま最小二乗法にぶち込んでみる"
   ]
  },
  {
   "cell_type": "code",
   "execution_count": 25,
   "metadata": {
    "deletable": false,
    "editable": false,
    "run_control": {
     "frozen": true
    },
    "scrolled": true
   },
   "outputs": [
    {
     "data": {
      "text/plain": [
       "0.002407410120303991"
      ]
     },
     "execution_count": 25,
     "metadata": {},
     "output_type": "execute_result"
    }
   ],
   "source": [
    "lr.fit(data, target)\n",
    "rmse(lr, data, target)"
   ]
  },
  {
   "cell_type": "markdown",
   "metadata": {},
   "source": [
    "誤差はかなり小さいが，これはtargetの標準偏差0.6に比べてとても小さい値になっている．  \n",
    "特徴量の数がサンプル数よりはるかに大きいので，過剰適合を起こしていると考えられる．  \n",
    "試しに，交差検定を行なってみる．"
   ]
  },
  {
   "cell_type": "code",
   "execution_count": 12,
   "metadata": {
    "deletable": false,
    "editable": false,
    "run_control": {
     "frozen": true
    },
    "scrolled": true
   },
   "outputs": [
    {
     "data": {
      "text/plain": [
       "0.7762859941576619"
      ]
     },
     "execution_count": 12,
     "metadata": {},
     "output_type": "execute_result"
    }
   ],
   "source": [
    "kfold_regression(lr, data, target)"
   ]
  },
  {
   "cell_type": "markdown",
   "metadata": {},
   "source": [
    "誤差は0.78程度になる．  \n",
    "しかしそもそも標準偏差が0.6なので，常に-3.5と予測していてもRMSEは0.6程度にしかならないことを考えれば，より悪い結果と言える．  \n",
    "この過学習への対策として正則化が行われる．  elastic netを用いて交差検定を行ってみる．"
   ]
  },
  {
   "cell_type": "code",
   "execution_count": 15,
   "metadata": {
    "deletable": false,
    "editable": false,
    "run_control": {
     "frozen": true
    }
   },
   "outputs": [
    {
     "data": {
      "text/plain": [
       "0.5911475920778513"
      ]
     },
     "execution_count": 15,
     "metadata": {},
     "output_type": "execute_result"
    }
   ],
   "source": [
    "en = ElasticNet(alpha=0.5)\n",
    "en.fit(data, target) \n",
    "kfold_regression(en, data, target)"
   ]
  },
  {
   "cell_type": "markdown",
   "metadata": {},
   "source": [
    "常に平均値を予測結果とするよりは，良い結果になった．あんまり良くなってないけど．  "
   ]
  },
  {
   "cell_type": "markdown",
   "metadata": {},
   "source": [
    "## ハイパーパラメータの賢い設定方法\n",
    "罰則パラメータは大きい値に設定した場合，極端な例としては全ての係数が0になるのが最適解となってしまうため，未学習の可能性がある．  \n",
    "小さすぎると今度はただの最小二乗法になってしまうので，過学習のおそれがある．  \n",
    "<br>\n",
    "最適なパラメータを求めるには，パラメータについて取りうる候補を用意し，交差検定で最適な値を一つ選び出す．  \n",
    "したがって，訓練データとテストデータに分ける交差検定と，最適なパラメータを選び出す交差検定の2段階の交差検定を用いなければならない．  \n",
    "このとき，パラメータ調整のためのデータ(2段目)は1段目の訓練データのみを使うことに注意する．  \n",
    "2段目で分割されたデータはそれぞれ異なるパラメータで訓練され，もっとも結果が良かったパラメータを使ってテストを行った結果を採用する．  \n",
    "訓練やパラメータ調整で利用されたデータは汚されたデータと呼ばれ，汎化能力を計測するために使うことはできないことに留意する．  \n",
    "<br>\n",
    "こういった2段階の交差検定は，LassoCV, RidgeCV, ElasticNetCVで行うことができる．"
   ]
  },
  {
   "cell_type": "code",
   "execution_count": 9,
   "metadata": {},
   "outputs": [],
   "source": [
    "# CV設定しろっていうワーニングをとりあえず止める\n",
    "import warnings\n",
    "warnings.filterwarnings('ignore')"
   ]
  },
  {
   "cell_type": "code",
   "execution_count": 39,
   "metadata": {
    "deletable": false,
    "editable": false,
    "run_control": {
     "frozen": true
    }
   },
   "outputs": [
    {
     "name": "stdout",
     "output_type": "stream",
     "text": [
      "Cross Validation: 0, err: 279.76675152278665\n",
      "Cross Validation: 1, err: 244.654851577256\n",
      "Cross Validation: 2, err: 249.28855645149685\n",
      "Cross Validation: 3, err: 258.30418227923565\n",
      "Cross Validation: 4, err: 296.1305187299544\n",
      "Cross Validation: 5, err: 249.7932932467228\n",
      "Cross Validation: 6, err: 247.76458906671712\n",
      "Cross Validation: 7, err: 271.0096111522141\n",
      "Cross Validation: 8, err: 280.27278665256557\n",
      "Cross Validation: 9, err: 299.01610344895033\n",
      "0.4078548439101767\n"
     ]
    }
   ],
   "source": [
    "from sklearn.linear_model import ElasticNetCV\n",
    "\n",
    "met = ElasticNetCV(alphas=[.125, .25, .5, 1., 2., 4.]) # alphaは探索対象なので探す必要がないが，時間かかりすぎなので制限\n",
    "kf = KFold(n_splits=10)\n",
    "err = 0\n",
    "for n, (train, test) in enumerate(kf.split(data)):\n",
    "    met.fit(data[train], target[train])\n",
    "    p = met.predict(data[test]).ravel()\n",
    "    e = p - target[test]\n",
    "    e = np.dot(e, e)\n",
    "    err += e\n",
    "    print(f\"Cross Validation: {n}, err: {e}\")\n",
    "print(np.sqrt(err / len(target)))"
   ]
  },
  {
   "cell_type": "markdown",
   "metadata": {},
   "source": [
    "## レーティング予測とレコメンド\n",
    "映画のお気に入りを予測する問題が「Netflix Challenge」として有名．  \n",
    "コンテストの勝者は，先進の機械学習を組み合わせた手法＋データの前処理への多くの労力によって優勝した．  \n",
    "前処理の段階で，あるユーザが全体的に高い評価をしていたり，常にネガティブな評価をする傾向がある時を考慮しなければならない．  \n",
    "他にも，どれくらい古い映画か？何人のユーザから評価をつけられたか？といった特徴量を利用していた．  \n",
    "良い結果を出すためには，優れたアルゴリズムだけではなく，「手を汚す」必要がある．  \n",
    "<br>\n",
    "コンテストで実際に使われたデータセットを手に入れることはできない．  \n",
    "しかし，同様なデータがアカデミック用として，GroupLensというミネソタ大学の研究所によって公開されている．  \n",
    "<br>\n",
    "クラス分類問題によるアプローチを取ることもできるが，この問題を回帰問題として考え，本章で学んだ手法を適用してみる．  \n",
    "クラス分類問題だと，次の2点を考慮するのが難しいため，回帰問題として扱う方が理にかなっている．  \n",
    "- 予測の誤差は大きいほど重大に評価しなければならない．例えば，4点と5点の誤差は大きくないが，1点と5点の誤差は甚大である．  \n",
    "- 中間的な値が意味を持つ．ユーザの入力は整数だが，予測値は4.7のような少数になっても意味がある．\n",
    "\n",
    "<br>\n",
    "我々には2つの選択肢がある．  \n",
    "\n",
    "- 映画を対象とするモデル\n",
    "- ユーザを対象とするモデル(今回はこっち)  \n",
    "    あるユーザを対象として，そのユーザの映画の評価方法を学習する．予測器はある映画を入力すると，予測スコアを出力する．  \n",
    "    映画の特徴量は，対象ユーザ以外の他ユーザの映画に対してのスコアとする．  \n",
    "    対象ユーザと評価のつけ方が似ているユーザに対して大きな回帰係数がつくことになる．"
   ]
  },
  {
   "cell_type": "markdown",
   "metadata": {},
   "source": [
    "まずはデータを取得する．シェルスクリプトは以下\n",
    "``` bash\n",
    "#!/usr/bin/env bash\n",
    "wget http://www.grouplens.org/system/files/ml-100k.zip --no-check-certificate\n",
    "unzip ml-100k.zip\n",
    "```\n",
    "次にデータをロードし，(ch07/usermodel.pyを参照)"
   ]
  },
  {
   "cell_type": "code",
   "execution_count": 10,
   "metadata": {},
   "outputs": [
    {
     "name": "stdout",
     "output_type": "stream",
     "text": [
      "(943, 1682)\n"
     ]
    }
   ],
   "source": [
    "from scipy import sparse # 2次元スパース行列のためのパッケージ\n",
    "\n",
    "data = np.array([ [int(tok) for tok in line.split('\\t')[:3]] for line in open('./data/ml-100k/u.data')])\n",
    "ij = data[:, :2]\n",
    "ij -= 1  # original data is in 1-based system\n",
    "values = data[:, 2]\n",
    "reviews = sparse.csc_matrix((values, ij.T)).astype(float) # Compressed Sparse Column matrix\n",
    "print(reviews.shape)\n",
    "# print(reviews[0])"
   ]
  },
  {
   "cell_type": "markdown",
   "metadata": {},
   "source": [
    "学習するデータは疎行列で，評価付けされた映画に対してのみ1~5の値がついている．それ以外は0.  \n",
    "今回は前と同じではつまらないのでLassoCVクラスを利用してみる．"
   ]
  },
  {
   "cell_type": "code",
   "execution_count": 11,
   "metadata": {},
   "outputs": [],
   "source": [
    "from sklearn.linear_model import LassoCV\n",
    "reg = LassoCV(alphas=[.125, .25, .5, 1., 2., 4.]) # 交差検定で用いるalphaの値を制限"
   ]
  },
  {
   "cell_type": "markdown",
   "metadata": {},
   "source": [
    "インデックスがi番目のユーザuに対して，モデルを学習する関数を書いていく．  \n",
    "uおための映画の評価方法をモデル化するには，uが評価付けした映画に対してだけ興味を持てば良い．  \n",
    "uによって評価付けされた映画のインデックスを抜き出す．  "
   ]
  },
  {
   "cell_type": "code",
   "execution_count": 12,
   "metadata": {},
   "outputs": [],
   "source": [
    "def target_user_data(user_id):\n",
    "    i = user_id\n",
    "    u = reviews[i]\n",
    "    u = u.toarray().ravel() # スパース行列を通常の配列に戻してflatten\n",
    "    ps, = np.where(u > 0) # 評価付けされたインデックスのみを取得\n",
    "    us = np.delete(np.arange(reviews.shape[0]), i) # ユーザi以外のユーザ配列を作成\n",
    "    x = reviews[us][:, ps].T # ユーザi以外のユーザがつけた映画のスコア\n",
    "    y = u[ps] # 対象ユーザuが評価付けを行なった映画のスコアを抜き出す\n",
    "    return x, y"
   ]
  },
  {
   "cell_type": "code",
   "execution_count": 13,
   "metadata": {},
   "outputs": [],
   "source": [
    "# 優れた映画は平均値が高くなるため，映画ごとに正規化(平均値を引く) を行う\n",
    "def movie_norm(xc): # xc: 全ての映画の特徴量(ユーザi以外の評価)\n",
    "    xc = xc.copy().toarray() # スパースでない配列に変換することでsklearnが高速に処理できる．(メモリ領域の許す限りは)\n",
    "    x1 = np.array([xi[xi > 0].mean() for xi in xc]) # 全ての映画について，評価の平均値をとる． 評価がついているもののみを対象とする．\n",
    "    x1 = np.nan_to_num(x1) # 評価が1つもついておらず，NANになる場合があるので，これを0に置き換える．\n",
    "\n",
    "    # 全ての映画に対し，それぞれの映画の評価の平均値を引く．\n",
    "    for i in range(xc.shape[0]):\n",
    "        xc[i] -= (xc[i] > 0) * x1[i] # 平均値を引くが，評価付けしていない映画のスコアは0のまま\n",
    "        \n",
    "    return xc, x1 # 正規化した配列, 平均値"
   ]
  },
  {
   "cell_type": "code",
   "execution_count": 14,
   "metadata": {},
   "outputs": [],
   "source": [
    "def learn_for(user_id, model=reg):\n",
    "    x, y = target_user_data(user_id)\n",
    "    kf = KFold(n_splits=10)\n",
    "    err = 0\n",
    "    for n, (train, test) in enumerate(kf.split(x)):\n",
    "        \n",
    "        xc, x1 = movie_norm(x[train])\n",
    "        model.fit(xc, y[train] - x1) # 学習にはラベルの評価も正規化を行う．\n",
    "        \n",
    "        xc, x1 = movie_norm(x[test])\n",
    "        p = model.predict(xc).ravel()\n",
    "        \n",
    "        e = np.sum( ((p + x1) - y[test]) ** 2 )\n",
    "        err += e\n",
    "        # print(f\"Cross Validation: {n}, err: {e}\")\n",
    "        \n",
    "    return np.sqrt(err / len(target))"
   ]
  },
  {
   "cell_type": "code",
   "execution_count": 23,
   "metadata": {
    "deletable": false,
    "editable": false,
    "run_control": {
     "frozen": true
    },
    "scrolled": true
   },
   "outputs": [
    {
     "name": "stdout",
     "output_type": "stream",
     "text": [
      "Average RMSE: 0.06882747921849655\n"
     ]
    }
   ],
   "source": [
    "rmses = []\n",
    "for i in range(reviews.shape[0]):\n",
    "    rmse = learn_for(i)\n",
    "    # print(f\"RMSE for user {i}: {rmse}\")\n",
    "    rmses.append(rmse)\n",
    "\n",
    "print(f\"Average RMSE: {np.asarray(rmses).mean()}\")"
   ]
  },
  {
   "cell_type": "markdown",
   "metadata": {},
   "source": [
    "ユーザのある映画への評価を予測する時，もっとも単純なのは平均値を予測すること．  \n",
    "そのような単純な手法よりは80%良い結果になる．  \n",
    "ここではユーザごとに完全に別のモデルを学習しており，その結果は目覚ましいとは言えない．  \n",
    "次回は回帰の手法を上回る，全てのユーザと全ての映画の情報を統合した賢い方法を紹介する．"
   ]
  },
  {
   "cell_type": "code",
   "execution_count": 15,
   "metadata": {},
   "outputs": [],
   "source": [
    "# 単純に平均を予測値としてみる\n",
    "class AverageModel():\n",
    "    def fit(self, x, y):\n",
    "        pass\n",
    "    \n",
    "    def predict(self, x):\n",
    "        return np.zeros(x.shape[0])"
   ]
  },
  {
   "cell_type": "code",
   "execution_count": 31,
   "metadata": {
    "deletable": false,
    "editable": false,
    "run_control": {
     "frozen": true
    }
   },
   "outputs": [
    {
     "name": "stdout",
     "output_type": "stream",
     "text": [
      "Average RMSE: 0.07407938354558408\n"
     ]
    }
   ],
   "source": [
    "rmses = []\n",
    "for i in range(reviews.shape[0]):\n",
    "    rmse = learn_for(i, model=AverageModel())\n",
    "    rmses.append(rmse)\n",
    "\n",
    "print(f\"Average RMSE: {np.asarray(rmses).mean()}\")"
   ]
  },
  {
   "cell_type": "code",
   "execution_count": 16,
   "metadata": {},
   "outputs": [
    {
     "data": {
      "text/plain": [
       "0.9291042932594739"
      ]
     },
     "execution_count": 16,
     "metadata": {},
     "output_type": "execute_result"
    }
   ],
   "source": [
    "0.06882747 / 0.07407938"
   ]
  },
  {
   "cell_type": "markdown",
   "metadata": {},
   "source": [
    "Lasso回帰によって約8%の誤差改善となったことになる"
   ]
  },
  {
   "cell_type": "markdown",
   "metadata": {},
   "source": [
    "回帰分析の弱点は，ユーザが映画を数字で評価しなければならず， 評価を行うのはほんの一部のユーザのみであるということ．  \n",
    "次回は，どの映画が一緒に見られているか，どの商品が一緒に買われているか，という情報を使う，バスケット分析という枠組みを見ていく．"
   ]
  }
 ],
 "metadata": {
  "kernelspec": {
   "display_name": "Python 3",
   "language": "python",
   "name": "python3"
  },
  "language_info": {
   "codemirror_mode": {
    "name": "ipython",
    "version": 3
   },
   "file_extension": ".py",
   "mimetype": "text/x-python",
   "name": "python",
   "nbconvert_exporter": "python",
   "pygments_lexer": "ipython3",
   "version": "3.7.0"
  }
 },
 "nbformat": 4,
 "nbformat_minor": 2
}
