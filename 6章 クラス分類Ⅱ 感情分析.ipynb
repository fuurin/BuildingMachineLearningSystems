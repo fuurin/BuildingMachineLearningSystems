{
 "cells": [
  {
   "cell_type": "markdown",
   "metadata": {},
   "source": [
    "企業の製品発売やプレスリリースの反応をチェックするのに，ツイッターなどの文章から感情分析(sentiment classification)を行いたい．  \n",
    "これは意見マイニング(opinion mining)とも呼ばれ，研究開発が勧められている．  \n",
    "前章のクラス分類の知識も応用して，自前で感情分類器を作る．  "
   ]
  },
  {
   "cell_type": "markdown",
   "metadata": {},
   "source": [
    "# 本章のロードマップ\n",
    "Twitterは文字数が短いため，特別な表記法や略語などが用いられる．  \n",
    "パラグラフごとに感情に関する情報を集めて，その結果から文書全体の感情分析を行いたいが，できない．  \n",
    "ここでは最先端の感情分類器までは踏み込まず，以下の3つのことに取り組む\n",
    "- ナイーブベイズという分類手法を学ぶ\n",
    "- 品詞タグ付け(Part-of-Speech tagging)について学ぶ\n",
    "- scikit-learnのツールの使い方を学ぶ"
   ]
  },
  {
   "cell_type": "markdown",
   "metadata": {},
   "source": [
    "# ツイートデータを取得する\n",
    "ツイートとそれに対応するラベル(意見なし,ポジティブ，ネガティブ，無感情)一式が欲しい．  \n",
    "Niek Sandersらによって5000以上のツイートに対して手作業でラベル付けが行われたコーパスを使用する．  \n",
    "install.pyによってTwitterのサーバとやりとりしてデータをダウンロードできる．"
   ]
  },
  {
   "cell_type": "markdown",
   "metadata": {},
   "source": [
    "install.pyは使い物にならないので  \n",
    "https://raw.githubusercontent.com/zfz/twitter_corpus/master/full-corpus.csv  \n",
    "から直接full-corpus.csvをダウンロードし，dataフォルダに置く"
   ]
  },
  {
   "cell_type": "code",
   "execution_count": 1,
   "metadata": {},
   "outputs": [],
   "source": [
    "import numpy as np\n",
    "import csv, os\n",
    "\n",
    "def load_sanders_data():\n",
    "    with open(os.path.join(\"data\", \"full_corpus.csv\"), \"r\", encoding='utf-8') as f:\n",
    "        data = np.asarray([ [tweet, label] for _, label, _, _, tweet in csv.reader(f) ][1:])\n",
    "    return data[:, 0], data[:, 1]"
   ]
  },
  {
   "cell_type": "code",
   "execution_count": 2,
   "metadata": {},
   "outputs": [
    {
     "name": "stdout",
     "output_type": "stream",
     "text": [
      "['Now all @Apple has to do is get swype on the iphone and it will be crack. Iphone that is'\n",
      " '@Apple will be adding more carrier support to the iPhone 4S (just announced)'\n",
      " \"Hilarious @youtube video - guy does a duet with @apple 's Siri. Pretty much sums up the love affair! http://t.co/8ExbnQjY\"\n",
      " '@RIM you made it too easy for me to switch to @Apple iPhone. See ya!'\n",
      " 'I just realized that the reason I got into twitter was ios5 thanks @apple']\n",
      "#irrelevant: 1689\n",
      "#negative: 572\n",
      "#neutral: 2333\n",
      "#positive: 519\n"
     ]
    }
   ],
   "source": [
    "X, Y = load_sanders_data()\n",
    "print(X[:5])\n",
    "classes = np.unique(Y) # 全ラベルの種類を取得\n",
    "for c in classes:\n",
    "    print(\"#%s: %i\" % (c, sum(Y == c)))"
   ]
  },
  {
   "cell_type": "markdown",
   "metadata": {},
   "source": [
    "以降では，意見なし(irrelevant)と感情なし(neutral)を同じものとして扱う"
   ]
  },
  {
   "cell_type": "markdown",
   "metadata": {},
   "source": [
    "# ナイーブベイズ分類器の紹介\n",
    "ナイーブベイズはもっとも洗練された機械学習アルゴリズムの一つと言える．  \n",
    "出力と関係ない特徴量にロバスト，つまり無関係な特徴量をうまく無視する．  \n",
    "学習，予測は高速で，メモリを必要としない．  \n",
    "ナイーブと呼ばれるのは，全ての特徴量が互いに独立である，という過程が必要であるから．  \n",
    "実際にはその過程が成立するのは稀であるがたとえそれが成立しなくても優れた性能を示すことが多い．  "
   ]
  },
  {
   "cell_type": "markdown",
   "metadata": {},
   "source": [
    "マークダウンの左寄せが効かないのでHTMLで無理やり"
   ]
  },
  {
   "cell_type": "code",
   "execution_count": 3,
   "metadata": {},
   "outputs": [
    {
     "data": {
      "text/html": [
       "<style>td, th{text-align: left !important}</style>\n"
      ],
      "text/plain": [
       "<IPython.core.display.HTML object>"
      ]
     },
     "metadata": {},
     "output_type": "display_data"
    }
   ],
   "source": [
    "%%html\n",
    "<style>td, th{text-align: left !important}</style>"
   ]
  },
  {
   "cell_type": "markdown",
   "metadata": {},
   "source": [
    "## ベイズ定理入門\n",
    "ナイーブベイズ分類器が行なっているのは，クラスを分類するためにどの特徴量が証拠となるかということを追跡すること．  \n",
    "ここでは，次の変数を例として使用する．  \n",
    "\n",
    "|変数|取りうる値|意味|\n",
    "| :- | :- | :- |\n",
    "|C|\"pos\", \"neg\"|ツイートが属するクラス(ポジティブ，ネガティブ)|\n",
    "|F1|Int(>=0)|ツイートで「awesome」という単語が用いられた回数|\n",
    "|F2|Int(>=0)|ツイートで「crazy」という単語が用いられた回数|\n",
    "\n",
    "ナイーブベイズでは，あるツイートについて，F1とF2がわかっている時そのツイートがクラスCに属する確率を求めている．  \n",
    "この確率関数は$P(C | F_1, F_2)$と書くことができる．  \n",
    "この確率は直接推定できないので，ベイズの定理を用いて式を変形する．  \n",
    "ベイズの定理を以下に示す．  \n",
    "$$ P(A) \\cdot P(B|A) = P(B) \\cdot P(A|B) $$\n",
    "この式を使うと，  \n",
    "$$ P(F_1, F_2) \\cdot P(C | F_1, F_2) = P(C) \\cdot P(F_1, F_2 | C) $$\n",
    "これを変形し，左辺に$ P(C | F_1, F_2) $ がくるようにすると\n",
    "$$ P(C | F_1, F_2) = \\frac{P(C) \\cdot P(F_1, F_2 | C)}{P(F_1, F_2)} $$\n",
    "これは，次のように言い換えられる．  \n",
    "- posterior: 事後確率, $P(C | F_1, F_2)$, $F_1$と$F_2$がわかっているとき，そのデータがクラス$C$に属する確率\n",
    "- prior: 事前確率, $P(C)$, データについて何も情報がない場合にそのデータがクラス$C$に属する確率\n",
    "- likelihood: 尤度, $P(F_1, F_2 | C)$, あるデータがクラス$C$に属することがわかっている場合，特徴量がその$F_1，F_2$である確率\n",
    "- evidence: 証拠, $P(F_1, F_2)$, 特徴量がその$F_1$と$F_2$をとる確率, 該当する特徴量が全体に占める割合を計算して求める\n",
    "\n",
    "という言葉を使って，\n",
    "$$ posterior = \\frac{prior \\cdot likelihood}{evidence} $$\n",
    "\n",
    "likelihoodを求めるのは少し考える必要がある．  "
   ]
  },
  {
   "cell_type": "markdown",
   "metadata": {},
   "source": [
    "## ナイーブにする\n",
    "確率理論($P(A, B) = P(B) \\cdot P(A | B) $)から次の式が成り立つ\n",
    "$$ P(F_1, F_2 | C) = P(F_1 | C) \\cdot P(F_2 | C, F_1)$$\n",
    "この式は，難しい問題$P(F_1, F_2 | C)$を別の難しい問題$P(F_2 | C, F_1)$に変換したにすぎない．  \n",
    "<br>\n",
    "ここで，$F_1$と$F_2$が独立であると仮定(ナイーブ)すると，$P(F_2 | C, F_1)$を$P(F_2 | C)$とかけるため，次のように書き直すことができる．  \n",
    "$$ P(F_1, F_2 | C) = P(F_1 | C) \\cdot P(F_2 | C)$$\n",
    "<br>\n",
    "これを合わせると，次の有用な式を得られる．  \n",
    "$$ P(C | F_1, F_2) = \\frac{P(C) \\cdot P(F_1 | C) \\cdot P(F_2 | C)}{P(F_1, F_2)} $$\n",
    "<br>\n",
    "独立の過程は都合的なもので理論的には正しくないが，現実のアプリケーションでは優れた結果になることが多くあるのが興味深い．"
   ]
  },
  {
   "cell_type": "markdown",
   "metadata": {},
   "source": [
    "## ナイーブベイズを用いて分類を行う\n",
    "新しいツイートが与えられた時に行うことは，単純に次の確率を計算することである．  \n",
    "$$ P(C = \"pos\" | F_1, F_2) = \\frac{P(C=\"pos\") \\cdot P(F_1 | C=\"pos\") \\cdot P(F_2 | C=\"pos\")}{P(F_1, F_2)} $$\n",
    "$$ P(C = \"neg\" | F_1, F_2) = \\frac{P(C=\"neg\") \\cdot P(F_1 | C=\"neg\") \\cdot P(F_2 | C=\"neg\")}{P(F_1, F_2)} $$\n",
    "これらのうち，確率の大きい方を選ぶため，同じ式である分母は無視できる．  \n",
    "この計算では，実際の確率には興味がなく，どちらのクラスの方があり得るか，ということに興味がある．  \n",
    "このことが，ナイーブベイズのロバスト性を高めている理由になっている．  \n",
    "<br>\n",
    "以上を一般化すると，次の式によってツイートを分類できる．  \n",
    "$$ C_{best} = \\arg \\max_{c \\in C} P(C=c) \\cdot P(F_1 | C=c) \\cdot P(F_2 | C=c) $$"
   ]
  },
  {
   "cell_type": "markdown",
   "metadata": {},
   "source": [
    "実際の例を使って計算を行なってみる．  \n",
    "次のようなラベル付きデータが与えられているとする．  \n",
    "\n",
    "|ツイート|クラス|\n",
    "|:--|:--|\n",
    "|awesome|pos|\n",
    "|awesome|pos|\n",
    "|awesome crazy|pos|\n",
    "|crazy|pos|\n",
    "|crazy|neg|\n",
    "|crazy|neg|\n",
    "\n",
    "このデータから，事前確率は，  \n",
    "$$ P(C=pos) = \\frac{4}{6} \\approx 0.67 $$\n",
    "$$ P(C=neg) = \\frac{2}{6} \\approx 0.33 $$\n",
    "これは，あるツイートについて，その内容を何も知らない場合は，それはポジティブであると予測した方が良いということ．  \n",
    "<br>\n",
    "次に，各条件付き確率を求めていく．  \n",
    "例えば，クラスがposであるとわかっている時，awesomeが存在する確率は次のように表せる．  \n",
    "$$ P(F_1 > 0 | C=pos) = \\frac{3}{4} = 0.75 $$\n",
    "同様にして，\n",
    "$$ P(F_2 > 0 | C=pos) = 0.5 $$\n",
    "$$ P(F_1 > 0 | C=neg) = 0 $$\n",
    "$$ P(F_2 > 0 | C=neg) = 1 $$\n",
    "<br>\n",
    "ここでは，試しにevidenceも計算し，実際の確率を求めてみる．  \n",
    "$$ P(F_1, F_2) = P(F_1, F_2 | C=pos) \\cdot P(C=pos) + P(F_1, F_2 | C=neg) \\cdot P(C=neg) $$\n",
    "実際には次の値になる．  \n",
    "$$ P(F_1 > 1, F_2 > 1) = 0.22 $$\n",
    "$$ P(F_1 > 1, F_2 > 0) = 0.44 $$\n",
    "$$ P(F_1 > 0, F_2 > 1) = 0.33 $$\n",
    "$$ P(F_1 > 0, F_2 > 0) = 0 $$\n",
    "<br>\n",
    "あとは，新しいツイートから特徴量$F_1$，$F_2$を抽出し，分類器に入力するだけ．  \n",
    "awesome -> P: 0.57, N: 0 -> Positive  \n",
    "crazy -> P: 0.25, N: 1 -> Negative  \n",
    "awesome crazy -> P: 0.76, N: 0 -> Positive  \n",
    "text -> P: ∞, N: ∞ （分母となるevidenceが0) -> 不確定  \n",
    "<br>\n",
    "この不確定な時にはどのように対応すれば良いか？  "
   ]
  },
  {
   "cell_type": "markdown",
   "metadata": {},
   "source": [
    "## 新出単語への対応\n",
    "上の例は明らかにデータが足りない．不確定な値も出てしまう．  \n",
    "そこで，出現頻度に1を足すスムージング，(加算スムージング, additive smoothing, ラプラススムージング(Laplace Smoothing))を利用する．  \n",
    "ポリゴンメッシュを滑らかにする画像処理のラプラシアンスムージングとは関係ない．  \n",
    "調整可能な0以上のパラメータ$\\alpha$を足す，Lidstoneスムージングという手法も存在する．  \n",
    "<br>\n",
    "加算スムージングを行うことで，例えば\n",
    "$$ P(F_1 > 0 | C=pos) = \\frac{3}{4} = 0.75 $$\n",
    "の代わりに，\n",
    "$$ P(F_1 > 0 | C=pos) = \\frac{3＋1}{4+2} = 0.67 $$\n",
    "という計算になる．  \n",
    "分母に2が足されるのはスムージング後も確率の定義を満たすためであり，$|C| = 2$であるため．  \n",
    "これで不確定な値はなくなる．"
   ]
  },
  {
   "cell_type": "markdown",
   "metadata": {},
   "source": [
    "## アンダーフローへの対応\n",
    "特徴量が増えるごとに確率がどんどん小さくなっていく．  \n",
    "すると，Pythonでは追えなくなる程の小ささになってしまう．  \n",
    "これに対応するため，次の公式を利用する．  \n",
    "$$ \\log(x \\cdot y) = log(x) + log(y) $$\n",
    "$C_{best}$を求めるための公式の右辺の対数を取り，この公式を使うと  \n",
    "$$ \\log[ P(C) \\cdot P(F_1 | C) \\cdot P(F_2 | C) ] = \\log P(C) + \\log P(F_1 | C) + \\log P(F_2 | C) $$\n",
    "対数をとっても値の大小は変わらない(対数関数が単調増加)ので同様にクラスを選べる．  \n",
    "以上を一般化することで，$C_{best}$を求める新しい式は次のようになる．  \n",
    "$$ C_{best} = \\arg \\max_{c \\in C} \\log P(C=c) + \\sum_k \\log P(F_k | C=c) $$"
   ]
  },
  {
   "cell_type": "markdown",
   "metadata": {},
   "source": [
    "## 最初の分類器を作成し，調整を行う\n",
    "sklearn.naive_bayesパッケージには3つのナイーブベイズ分類器がある．  \n",
    "- GaussianNB\n",
    "    - 特徴量が正規分布(ガウス分布)にしたがって分布すると仮定\n",
    "    - 身長と体重から性別を分類する問題など\n",
    "- MultinomialNB\n",
    "    - ある事象が発生した回数を特徴量としていると仮定\n",
    "    - TF-IDFと相性がよい\n",
    "- BernoulliNB\n",
    "    - 単語が出現した / 出現していない の2値で特徴量が表される場合に適している．\n",
    "\n",
    "我々はこれから，単語の出現回数を特徴量として用いるので，MultinomialNBを利用する．  "
   ]
  },
  {
   "cell_type": "markdown",
   "metadata": {},
   "source": [
    "## 簡単な問題を最初に解く\n",
    "ここでは問題を簡単にするため，irrelevant， neutralを除いたpositive, negativeのみのツイートを対象とする．  "
   ]
  },
  {
   "cell_type": "code",
   "execution_count": 4,
   "metadata": {
    "scrolled": true
   },
   "outputs": [],
   "source": [
    "pos_neg_idx = np.logical_or(Y==\"positive\", Y == \"negative\") # 集合に対する，論理和による選択\n",
    "X = X[pos_neg_idx]\n",
    "Y = Y[pos_neg_idx]\n",
    "Y = Y == \"positive\" # positiveはTrue, negativeはFalseとなるラベル配列を作成"
   ]
  },
  {
   "cell_type": "markdown",
   "metadata": {},
   "source": [
    "TfidfVectorizerを使って，生のテキストデータをTF-IDF(3章を参照, 全ての文書の中でその単語がどれだけレアか)特徴量に変換する．  \n",
    "ここでは，ベクトル化を行う機能と分類器を合わせて持つことができるPipelineクラスを使用する．  \n",
    "なぜ単語の重要性が特徴量になるのか？"
   ]
  },
  {
   "cell_type": "code",
   "execution_count": 5,
   "metadata": {},
   "outputs": [],
   "source": [
    "from sklearn.feature_extraction.text import TfidfVectorizer\n",
    "from sklearn.naive_bayes import MultinomialNB\n",
    "from sklearn.pipeline import Pipeline\n",
    "\n",
    "def create_ngram_model():\n",
    "    tfidf_ngrams = TfidfVectorizer(ngram_range=(1, 3), analyzer=\"word\", binary=False) # 1~3gramで全て特徴量を作り，まとめて一つの特徴空間にする\n",
    "    clf = MultinomialNB()\n",
    "    pipeline = Pipeline([ ('vect', tfidf_ngrams), ('clf', clf)]) # データを入れると，まずTF-IDFに変換してくれるようなパイプラインを作成\n",
    "    return pipeline\n",
    "\n",
    "# ここでパイプラインに名前がついているのは，パラメータ探索を自動で行うGridSearchで使える．"
   ]
  },
  {
   "cell_type": "markdown",
   "metadata": {},
   "source": [
    "我々はデータをあまり持っていないので，テストデータと訓練データをとっかえひっかえする交差検定を使う．  \n",
    "今回はKFoldではなく，テストデータをシャッフルして抽出するShuffleSplitを用いる．  \n",
    "交差検定の各試行では，「適合率-再現率曲線より下の面積(AUC)」と正解率を求める．"
   ]
  },
  {
   "cell_type": "code",
   "execution_count": 6,
   "metadata": {},
   "outputs": [],
   "source": [
    "from sklearn.metrics import precision_recall_curve, auc\n",
    "from sklearn.model_selection import ShuffleSplit\n",
    "# ShuffleSplitについて https://scikit-learn.org/stable/modules/generated/sklearn.model_selection.ShuffleSplit.html\n",
    "\n",
    "import matplotlib.pyplot as plt\n",
    "%matplotlib inline\n",
    "\n",
    "def pr_curve(precisions, recalls):\n",
    "    plt.plot(recalls, precisions)\n",
    "    plt.fill_between(recalls, precisions, facecolor='blue', alpha=0.5)\n",
    "    plt.grid()\n",
    "    plt.xlabel(\"recall\")\n",
    "    plt.ylabel(\"precisions\")\n",
    "    plt.title(\"precision-recall curve (AUC = %.3f)\" % auc(recalls, precisions))\n",
    "\n",
    "def train_model(clf_factory, X, Y):\n",
    "    # 乱数の再現ができるようにrandom_stateを0にする\n",
    "    rs = ShuffleSplit(n_splits=10, test_size=0.3, random_state=0)\n",
    "    \n",
    "    scores = []\n",
    "    pr_scores = []\n",
    "    \n",
    "    for train, test in rs.split(X):\n",
    "        X_train, y_train = X[train], Y[train]\n",
    "        X_test, y_test = X[test], Y[test]\n",
    "        \n",
    "        clf = clf_factory()\n",
    "        clf.fit(X_train, y_train) # 訓練データを与え，TF-IDF+MultinomialNBモデルにフィッティングする\n",
    "        \n",
    "        train_score = clf.score(X_train, y_train) # 訓練データに対する正解率を取得\n",
    "        test_score = clf.score(X_test, y_test) # テストデータに対する正解率を取得\n",
    "        \n",
    "        scores.append(test_score)\n",
    "        proba = clf.predict_proba(X_test) # テストデータに対する予測結果を確率で\n",
    "        \n",
    "        precision, recall, pr_thresholds = precision_recall_curve(y_test, proba[:, 1]) # ポジティブである確率を出す\n",
    "        \n",
    "        pr_scores.append(auc(recall, precision))\n",
    "    \n",
    "    summary = (np.mean(scores), np.std(scores), np.mean(pr_scores), np.std(pr_scores))\n",
    "    print(\"Acc: %.3f \\t AccStd: %.3f \\t AUC: %.3f \\t AUCStd: %.3f\" % summary)\n",
    "    \n",
    "    pr_curve(precision, recall)"
   ]
  },
  {
   "cell_type": "code",
   "execution_count": 7,
   "metadata": {},
   "outputs": [
    {
     "name": "stdout",
     "output_type": "stream",
     "text": [
      "Acc: 0.800 \t AccStd: 0.021 \t AUC: 0.887 \t AUCStd: 0.025\n"
     ]
    },
    {
     "data": {
      "image/png": "[encoded data removed]",
      "text/plain": [
       "<Figure size 432x288 with 1 Axes>"
      ]
     },
     "metadata": {
      "needs_background": "light"
     },
     "output_type": "display_data"
    }
   ],
   "source": [
    "train_model(create_ngram_model, X, Y)"
   ]
  },
  {
   "cell_type": "markdown",
   "metadata": {},
   "source": [
    "正解率80%, AUC 88.7%を達成  \n",
    "人間でも感情分析を100%の精度で行うのは不可能であるので，この結果はとても良い結果と言える．"
   ]
  },
  {
   "cell_type": "markdown",
   "metadata": {},
   "source": [
    "## 全てのクラスを対象とする\n",
    "ツイートが感情を含むかどうかを分類するには？  \n",
    "感情の含まれるツイートを陽性と解釈し直すよう配列を修正"
   ]
  },
  {
   "cell_type": "code",
   "execution_count": 8,
   "metadata": {},
   "outputs": [],
   "source": [
    "def tweak_labels(Y, pos_sent_list):\n",
    "    # Yはオリジナルのクラスラベル配列\n",
    "    # pos_sent_listには[\"positive\", \"negative\"]のような配列が入力される\n",
    "    pos = Y == pos_sent_list[0]\n",
    "    for sent_label in pos_sent_list[1:]:\n",
    "        pos |= Y == sent_label # or演算，どちらかがTrueならTrueになる．ちなみに数値のビット演算にも使える．\n",
    "    \n",
    "    # 選ばれたラベルのところを1に，そうでないところを0にする\n",
    "    Y = np.zeros(Y.shape[0])\n",
    "    Y[pos] = 1\n",
    "    Y = Y.astype(int) # numpy配列の要素をint型に変換\n",
    "    \n",
    "    return Y"
   ]
  },
  {
   "cell_type": "markdown",
   "metadata": {},
   "source": [
    "ツイートに感情があるかないかを判別する．"
   ]
  },
  {
   "cell_type": "code",
   "execution_count": 9,
   "metadata": {},
   "outputs": [
    {
     "name": "stdout",
     "output_type": "stream",
     "text": [
      "Acc: 0.793 \t AccStd: 0.008 \t AUC: 0.675 \t AUCStd: 0.022\n"
     ]
    },
    {
     "data": {
      "image/png": "[encoded data removed]",
      "text/plain": [
       "<Figure size 432x288 with 1 Axes>"
      ]
     },
     "metadata": {
      "needs_background": "light"
     },
     "output_type": "display_data"
    }
   ],
   "source": [
    "X, Y = load_sanders_data()\n",
    "Y = tweak_labels(Y, [\"positive\", \"negative\"])\n",
    "train_model(create_ngram_model, X, Y)"
   ]
  },
  {
   "cell_type": "markdown",
   "metadata": {},
   "source": [
    "ここで，感情を含むツイートは全体の20%程度である偏ったものであることに留意すると，ツイートを見なくても感情を含むかどうかは8割でわかる．  \n",
    "ということは，この正答率0.793はツイートを見ていないのと同程度の正解率であり，役に立たない．  "
   ]
  },
  {
   "cell_type": "markdown",
   "metadata": {},
   "source": [
    "つぎに，ナイーブベイズ分類器がポジティブとそれ以外を分類する場合を調べてみる．"
   ]
  },
  {
   "cell_type": "code",
   "execution_count": 10,
   "metadata": {},
   "outputs": [
    {
     "name": "stdout",
     "output_type": "stream",
     "text": [
      "Acc: 0.901 \t AccStd: 0.004 \t AUC: 0.279 \t AUCStd: 0.036\n"
     ]
    },
    {
     "data": {
      "image/png": "[encoded data removed]",
      "text/plain": [
       "<Figure size 432x288 with 1 Axes>"
      ]
     },
     "metadata": {
      "needs_background": "light"
     },
     "output_type": "display_data"
    }
   ],
   "source": [
    "# ポジティブ vs その他\n",
    "X, Y = load_sanders_data()\n",
    "Y = tweak_labels(Y, [\"positive\"])\n",
    "train_model(create_ngram_model, X, Y)"
   ]
  },
  {
   "cell_type": "code",
   "execution_count": 11,
   "metadata": {},
   "outputs": [
    {
     "name": "stdout",
     "output_type": "stream",
     "text": [
      "Acc: 0.887 \t AccStd: 0.007 \t AUC: 0.477 \t AUCStd: 0.030\n"
     ]
    },
    {
     "data": {
      "image/png": "[encoded data removed]",
      "text/plain": [
       "<Figure size 432x288 with 1 Axes>"
      ]
     },
     "metadata": {
      "needs_background": "light"
     },
     "output_type": "display_data"
    }
   ],
   "source": [
    "# ネガティブ vs その他\n",
    "X, Y = load_sanders_data()\n",
    "Y = tweak_labels(Y, [\"negative\"])\n",
    "train_model(create_ngram_model, X, Y)"
   ]
  },
  {
   "cell_type": "markdown",
   "metadata": {},
   "source": [
    "どちらもAUCが上がらない．"
   ]
  },
  {
   "cell_type": "markdown",
   "metadata": {},
   "source": [
    "## 分類器のパラメータを調整する\n",
    "TfidfVectorizerとMultinomialNBに適当なパラメータを割り当ててみる  \n",
    "- TfidfVectorizer\n",
    "    - NGramsについて，ユニグラム，バイグラム，トライグラムをそれぞれ試してみる\n",
    "    - min_dfについては1,2の場合を試す\n",
    "    - IF-IDFにおけるIDFの影響を検証するため，use_idfとsmooth_idfについてFalseとTrueの場合を試す\n",
    "    - stop_wordsにEnglish，Noneを試す\n",
    "    - 単語の頻度(sublinear_tf)について，対数を用いるかどうかを検証\n",
    "    - 記録する対象を単語の出現回数か単語の出現の有無にするかをbinaryをTrueまたはFalseにして試す\n",
    "- MultinomialNB\n",
    "    - スムージングについて検証するため，alphaに次の値を設定\n",
    "        - 1: ラプラススムージング\n",
    "        - 0.01, 0.05, 0.1, 0.5: Lidstoneスムージング\n",
    "        - 0: スムージングなし\n",
    "\n",
    "これらの組み合わせを全てやっていると時間がかかる．  \n",
    "こういったパラメータ探索には，sklearnのGridSearchCVと呼ばれるクラスを使うと良い．  \n",
    "推定器(分類器のようなもの)インスタンスと候補となるパラメータ値を辞書で渡す．  \n",
    "推定器としては，この場合Pipelineのインスタンスを入力する．  \n",
    "パラメータ辞書は，キーを以下のフォーマットに従わせる必要がある．  \n",
    "<br>\n",
    "<div style=\"text-align: center\">[estimator]__[subestimator]__...__[param_name]</div>\n",
    "<br>\n",
    "例えば，TfidfVectorizer(変数名vect)のngram_rangeパラメータについて候補となる値を探索する時には，  "
   ]
  },
  {
   "cell_type": "code",
   "execution_count": 12,
   "metadata": {},
   "outputs": [],
   "source": [
    "Param_grid = {\"vect__ngram_range\": [(1,1), (1,2), (1,3)]}"
   ]
  },
  {
   "cell_type": "markdown",
   "metadata": {},
   "source": [
    "となる.  \n",
    "最終的な結果は，メンバ変数であるbest_estimator_に最適なパラメータの組み合わせが収められる．  \n",
    "<br>\n",
    "GridSearchCVのメンバ変数であるcv(Cross-Validation)にShuffleSplitインスタンスを渡すことで交差検定ができる．  \n",
    "また，score_funcメンバ変数にスコアを算出する関数を指定する．  \n",
    "我々が扱うデータには偏りがあるため，metric.accuracyを基準にするべきではない．  \n",
    "<br>\n",
    "ここでは，適合率と再現率から計算できる，F値(F-measure)を用いる．  \n",
    "F値はmetrics.f1_scoreで実装されており，式は以下になる．  \n",
    "$$ F = \\frac{2 \\cdot precision \\cdot recall}{precision + recall} $$\n",
    "<br>\n",
    "F値はprecisionとrecallの[調和平均](https://mathtrain.jp/hmean)と呼ばれるもの.\n",
    "調和平均$H$とは，平均を撮るものが$a, b$の2個の場合は，  \n",
    "$$ \\frac{1}{H} = \\frac{1}{2} \\Bigl( \\frac{1}{a} + \\frac{1}{b} \\Bigr) $$\n",
    "で表される．  \n",
    "例えば，速度の問題で，「1kmの道を行きは$a$km/h, 帰りは$b$km/hで走った時の平均時速」は$H$になる．  \n",
    "調和平均は，％，つまり率の平均を取るのに良いとされている．  "
   ]
  },
  {
   "cell_type": "code",
   "execution_count": 25,
   "metadata": {},
   "outputs": [],
   "source": [
    "def harmonic_average(lst):\n",
    "    return len(lst) / sum([1.0 / i for i in lst])"
   ]
  },
  {
   "cell_type": "code",
   "execution_count": 32,
   "metadata": {},
   "outputs": [
    {
     "name": "stdout",
     "output_type": "stream",
     "text": [
      "調和平均\n",
      "0.5\n",
      "0.18\n",
      "0.1\n",
      "0.8999999999999999\n",
      "\n",
      "相乗平均\n",
      "0.5\n",
      "0.30000000000000004\n",
      "0.1\n",
      "0.9\n",
      "\n",
      "相加平均\n",
      "0.5\n",
      "0.5\n",
      "0.1\n",
      "0.9\n"
     ]
    }
   ],
   "source": [
    "print(\"調和平均\")\n",
    "print(harmonic_average([0.5, 0.5]))\n",
    "print(harmonic_average([0.1, 0.9]))\n",
    "print(harmonic_average([0.1, 0.1]))\n",
    "print(harmonic_average([0.9, 0.9]))\n",
    "print()\n",
    "\n",
    "print(\"相乗平均\")\n",
    "import math\n",
    "print(math.sqrt(np.multiply.accumulate([0.5, 0.5])[-1]))\n",
    "print(math.sqrt(np.multiply.accumulate([0.1, 0.9])[-1]))\n",
    "print(math.sqrt(np.multiply.accumulate([0.1, 0.1])[-1]))\n",
    "print(math.sqrt(np.multiply.accumulate([0.9, 0.9])[-1]))\n",
    "print()\n",
    "\n",
    "print(\"相加平均\")\n",
    "print(sum([0.5, 0.5]) / 2)\n",
    "print(sum([0.1, 0.9]) / 2)\n",
    "print(sum([0.1, 0.1]) / 2)\n",
    "print(sum([0.9, 0.9]) / 2)"
   ]
  },
  {
   "cell_type": "markdown",
   "metadata": {},
   "source": [
    "上記の結果からわかるように，調和平均は同じ値の時はそのままという平均の性質を保ちつつ，値が低い方に引っ張られやすいという性質を持つ．  \n",
    "今回の場合，precisionもrecallも高い水準であって欲しいため，どちらかでも値が低いことに対してペナルティが大きい評価基準であると言える．"
   ]
  },
  {
   "cell_type": "markdown",
   "metadata": {},
   "source": [
    "以上をまとめ，パラメータ調整を行なっていく．"
   ]
  },
  {
   "cell_type": "code",
   "execution_count": 35,
   "metadata": {},
   "outputs": [],
   "source": [
    "from sklearn.model_selection import GridSearchCV\n",
    "from sklearn.metrics import f1_score\n",
    "\n",
    "def grid_search_model(clf_factory, X, Y):\n",
    "    rs = ShuffleSplit(n_splits=10, test_size=0.3, random_state=0)\n",
    "    \n",
    "    param_grid = dict(\n",
    "        vect__ngram_range=[(1, 1), (1, 2), (1, 3)],\n",
    "        vect__min_df=[1, 2],\n",
    "        vect__stop_words=[None, \"english\"],\n",
    "        vect__smooth_idf=[False, True],\n",
    "        vect__use_idf=[False, True],\n",
    "        vect__sublinear_tf=[False, True],\n",
    "        vect__binary=[False, True],\n",
    "        clf__alpha=[0, 0.01, 0.05, 0.1, 0.5, 1],\n",
    "    )\n",
    "    \n",
    "    # Pipelineで名付けたvect, clfに対して，param_gridで指定したパラメータを使ってグリッドサーチする．\n",
    "    grid_search = GridSearchCV(\n",
    "        clf_factory(), \n",
    "        param_grid=param_grid,\n",
    "        cv = rs,\n",
    "        score_func=f1_score,\n",
    "        verbose=10\n",
    "    )\n",
    "    \n",
    "    grid_search.fit(X, Y)\n",
    "    \n",
    "    return grid_search.best_estimator_"
   ]
  },
  {
   "cell_type": "code",
   "execution_count": null,
   "metadata": {},
   "outputs": [],
   "source": [
    "import pickle\n",
    "\n",
    "try:\n",
    "    with open(\"./data/06_clf_1.pkl\", \"rb\") as f:\n",
    "        clf = pickle.load(f)\n",
    "except:\n",
    "    # 1152通りのパラメータの組み合わせを交差検定するため，数時間を要する\n",
    "    clf = grid_search_model(create_ngram_model, X, Y)\n",
    "    with open(\"./data/06_clf_1.pkl\", \"wb\") as f:\n",
    "        pickle.dump(clf, f)\n",
    "    print(clf)"
   ]
  }
 ],
 "metadata": {
  "kernelspec": {
   "display_name": "Python 3",
   "language": "python",
   "name": "python3"
  },
  "language_info": {
   "codemirror_mode": {
    "name": "ipython",
    "version": 3
   },
   "file_extension": ".py",
   "mimetype": "text/x-python",
   "name": "python",
   "nbconvert_exporter": "python",
   "pygments_lexer": "ipython3",
   "version": "3.6.5"
  }
 },
 "nbformat": 4,
 "nbformat_minor": 2
}
