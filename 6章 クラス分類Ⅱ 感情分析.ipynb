{
 "cells": [
  {
   "cell_type": "markdown",
   "metadata": {},
   "source": [
    "企業の製品発売やプレスリリースの反応をチェックするのに，ツイッターなどの文章から感情分析(sentiment classification)を行いたい．  \n",
    "これは意見マイニング(opinion mining)とも呼ばれ，研究開発が勧められている．  \n",
    "前章のクラス分類の知識も応用して，自前で感情分類器を作る．  "
   ]
  },
  {
   "cell_type": "markdown",
   "metadata": {},
   "source": [
    "# まとめ\n",
    "ツイートのポジティブ/ネガティブ分類器を作る．  \n",
    "- ナイーブベイズ\n",
    "    - 分類したいクラスを$C$,特徴量を$F_1, F_2$とするとベイズの定理から$$ P(C | F_1, F_2) = \\frac{P(C) \\cdot P(F_1, F_2 | C)}{P(F_1, F_2)} $$\n",
    "    - $P(C | F_1, F_2)$: 事後確率 $F_1$と$F_2$がわかっているとき，そのデータがクラス$C$に属する確率\n",
    "    - $P(C)$: 事前確率, データについて何も情報がない場合にそのデータがクラス$C$に属する確率\n",
    "    - $P(F_1, F_2 | C)$: 尤度, あるデータがクラス$C$に属することがわかっている場合，特徴量がその$F_1，F_2$である確率\n",
    "    - $P(F_1, F_2)$: 証拠, 特徴量がその$F_1$と$F_2$をとる確率, 該当する特徴量が全体に占める割合を計算して求める\n",
    "    - これよりクラスの判定結果は$$ C_{best} = \\arg \\max_{c \\in C} P(C=c) \\cdot P(F_1 | C=c) \\cdot P(F_2 | C=c) $$\n",
    "    - 新出データに対して確率を求めると証拠が0になってしまうので，全ての単語が1度は出ていることを仮定するスムージングを行う．\n",
    "        - 加算スムージング(ラプラススムージング): 全ての頻度に1を足す\n",
    "        - Lidstoneスムージング: 0以上のパラメータ$\\alpha$を足す\n",
    "    - 実用上は，限りなく小さい確率の積によるアンダーフローを防ぐため，積を和に変換できる対数をとる．この場合，\n",
    "    $$ C_{best} = \\arg \\max_{c \\in C} \\log P(C=c) + \\sum_k \\log P(F_k | C=c) $$\n",
    "    - sklearnには3つのナイーブベイズ分類器が用意されている． 今回はMultinomialNBを利用．\n",
    "        - GaussianNB: 特徴量が正規分布(ガウス分布)にしたがって分布すると仮定, 身長と体重から性別を分類する問題など\n",
    "        - MultinomialNB: ある事象が発生した回数を特徴量としていると仮定, TF-IDFと相性がよい\n",
    "        - BernoulliNB: 単語が出現した / 出現していない の2値で特徴量が表される場合に適している．  \n",
    "<br>\n",
    "- ポジティブとネガティブを判定する分類器\n",
    "    - TfidfVectorizer->MultinomialNB というモデルを Pipelineで繋いだモデルで分類．\n",
    "    - 以降，データが少ないので，交差検定を行う．ShuffleSplitでテストデータと訓練データを分ける．\n",
    "    - 正解率80%, AUC(Area Under precision-recall curve)88%(以下80/88のように表記)の良い感じの結果に．  \n",
    "<br>\n",
    "- 全てのクラスを判定する分類器\n",
    "    - 感情を含む / 含まない: 79/67: 感情を含むツイートは2割なので役立たず\n",
    "    - ポジティブ/ その他: 90/27: PRカーブの成績が悪い\n",
    "    - ネガティブ/ その他: 88/47: PRカーブの成績が悪い\n",
    "    - データに偏りがあるのでPRカーブを信じるべき．するとこの結果はあまり良くない．  \n",
    "<br>\n",
    "- 感情を含む / 含まないの判定についてパラメータ最適化を行なった分類器\n",
    "    - GridSearchCVによって交差検定(Cross Validation)の結果が最も良いパラメータを全探索\n",
    "        - Param_grid = {\"vect__ngram_range\": [(1,1), (1,2), (1,3)]} のような辞書を作る．\n",
    "    - 交差検定の指標にはF値(metrics.f1_scoreで実装)を用いる．$$ F = \\frac{2 \\cdot precision \\cdot recall}{precision + recall} $$\n",
    "        - precisionとrecallの調和平均(逆数の平均の逆数,率の平均を取るのに適する,値の小さい方に引っ張られる平均)\n",
    "    - 感情を含む / 含まない: 83/70 ちょっと良くなった  \n",
    "<br>\n",
    "- ツイートの整形を行う分類器(パラメータ最適)\n",
    "    - TfidfVectorizerにpreprocessorを渡す．\n",
    "        - 顔文字を単語に変換\n",
    "        - 短縮系の言葉を単語に分割\n",
    "    - pos vs neg: 80/88, emo vs rest: 83/70, pos vs rest: 91/51, neg vs rest: 90/65  \n",
    "<br>\n",
    "- 単語のポジネガスコアを利用する分類器(パラメータ最適，整形済み)\n",
    "    - nltk.pos_tag(nltk.word_tokenize(\"This is a sentense.\")) による単語品詞タグづけ(Penn Treebankプロジェクト)\n",
    "    - SentiWordNetのデータによる「品詞/単語」のポジネガスコアを獲得し，特徴量とする\n",
    "    - BaseEstimatorを継承して，ポジネガスコアを特徴量として算出するクラスを作り，TfidfVectorizerの特徴量とFeatureUnionによって合わせる．\n",
    "    - pos vs neg: 80/88, emo vs rest:83/69, pos vs rest: 91/52, neg vs rest: 89/62, 努力の割にはそんなに変わらず\n",
    "    - まず感情があるかないかを分類してからポジネガ分類器にかけると良いかもしれない．"
   ]
  },
  {
   "cell_type": "markdown",
   "metadata": {},
   "source": [
    "# 本章のロードマップ\n",
    "Twitterは文字数が短いため，特別な表記法や略語などが用いられる．  \n",
    "パラグラフごとに感情に関する情報を集めて，その結果から文書全体の感情分析を行いたいが，できない．  \n",
    "ここでは最先端の感情分類器までは踏み込まず，以下の3つのことに取り組む\n",
    "- ナイーブベイズという分類手法を学ぶ\n",
    "- 品詞タグ付け(Part-of-Speech tagging)について学ぶ\n",
    "- scikit-learnのツールの使い方を学ぶ"
   ]
  },
  {
   "cell_type": "markdown",
   "metadata": {},
   "source": [
    "# ツイートデータを取得する\n",
    "ツイートとそれに対応するラベル(意見なし,ポジティブ，ネガティブ，無感情)一式が欲しい．  \n",
    "Niek Sandersらによって5000以上のツイートに対して手作業でラベル付けが行われたコーパスを使用する．  \n",
    "install.pyによってTwitterのサーバとやりとりしてデータをダウンロードできる．"
   ]
  },
  {
   "cell_type": "markdown",
   "metadata": {},
   "source": [
    "install.pyは使い物にならないので  \n",
    "https://raw.githubusercontent.com/zfz/twitter_corpus/master/full-corpus.csv  \n",
    "から直接full-corpus.csvをダウンロードし，dataフォルダに置く"
   ]
  },
  {
   "cell_type": "code",
   "execution_count": 1,
   "metadata": {},
   "outputs": [],
   "source": [
    "import numpy as np\n",
    "import csv, os\n",
    "\n",
    "def load_sanders_data():\n",
    "    with open(os.path.join(\"data\", \"full_corpus.csv\"), \"r\", encoding='utf-8') as f:\n",
    "        data = np.asarray([ [tweet, label] for _, label, _, _, tweet in csv.reader(f) ][1:])\n",
    "    return data[:, 0], data[:, 1]"
   ]
  },
  {
   "cell_type": "code",
   "execution_count": 2,
   "metadata": {},
   "outputs": [
    {
     "name": "stdout",
     "output_type": "stream",
     "text": [
      "['Now all @Apple has to do is get swype on the iphone and it will be crack. Iphone that is'\n",
      " '@Apple will be adding more carrier support to the iPhone 4S (just announced)'\n",
      " \"Hilarious @youtube video - guy does a duet with @apple 's Siri. Pretty much sums up the love affair! http://t.co/8ExbnQjY\"\n",
      " '@RIM you made it too easy for me to switch to @Apple iPhone. See ya!'\n",
      " 'I just realized that the reason I got into twitter was ios5 thanks @apple']\n",
      "#irrelevant: 1689\n",
      "#negative: 572\n",
      "#neutral: 2333\n",
      "#positive: 519\n"
     ]
    }
   ],
   "source": [
    "X, Y = load_sanders_data()\n",
    "print(X[:5])\n",
    "classes = np.unique(Y) # 全ラベルの種類を取得\n",
    "for c in classes:\n",
    "    print(\"#%s: %i\" % (c, sum(Y == c)))"
   ]
  },
  {
   "cell_type": "markdown",
   "metadata": {},
   "source": [
    "以降では，意見なし(irrelevant)と感情なし(neutral)を同じものとして扱う"
   ]
  },
  {
   "cell_type": "markdown",
   "metadata": {},
   "source": [
    "# ナイーブベイズ分類器の紹介\n",
    "ナイーブベイズはもっとも洗練された機械学習アルゴリズムの一つと言える．  \n",
    "出力と関係ない特徴量にロバスト，つまり無関係な特徴量をうまく無視する．  \n",
    "学習，予測は高速で，メモリを必要としない．  \n",
    "ナイーブと呼ばれるのは，全ての特徴量が互いに独立である，という過程が必要であるから．  \n",
    "実際にはその過程が成立するのは稀であるがたとえそれが成立しなくても優れた性能を示すことが多い．  "
   ]
  },
  {
   "cell_type": "markdown",
   "metadata": {},
   "source": [
    "マークダウンの左寄せが効かないのでHTMLで無理やり"
   ]
  },
  {
   "cell_type": "code",
   "execution_count": 3,
   "metadata": {},
   "outputs": [
    {
     "data": {
      "text/html": [
       "<style>td, th{text-align: left !important}</style>\n"
      ],
      "text/plain": [
       "<IPython.core.display.HTML object>"
      ]
     },
     "metadata": {},
     "output_type": "display_data"
    }
   ],
   "source": [
    "%%html\n",
    "<style>td, th{text-align: left !important}</style>"
   ]
  },
  {
   "cell_type": "markdown",
   "metadata": {},
   "source": [
    "## ベイズ定理入門\n",
    "ナイーブベイズ分類器が行なっているのは，クラスを分類するためにどの特徴量が証拠となるかということを追跡すること．  \n",
    "ここでは，次の変数を例として使用する．  \n",
    "\n",
    "|変数|取りうる値|意味|\n",
    "| :- | :- | :- |\n",
    "|C|\"pos\", \"neg\"|ツイートが属するクラス(ポジティブ，ネガティブ)|\n",
    "|F1|Int(>=0)|ツイートで「awesome」という単語が用いられた回数|\n",
    "|F2|Int(>=0)|ツイートで「crazy」という単語が用いられた回数|\n",
    "\n",
    "ナイーブベイズでは，あるツイートについて，F1とF2がわかっている時そのツイートがクラスCに属する確率を求めている．  \n",
    "この確率関数は$P(C | F_1, F_2)$と書くことができる．  \n",
    "この確率は直接推定できないので，ベイズの定理を用いて式を変形する．  \n",
    "ベイズの定理を以下に示す．  \n",
    "$$ P(A) \\cdot P(B|A) = P(B) \\cdot P(A|B) $$\n",
    "この式を使うと，  \n",
    "$$ P(F_1, F_2) \\cdot P(C | F_1, F_2) = P(C) \\cdot P(F_1, F_2 | C) $$\n",
    "これを変形し，左辺に$ P(C | F_1, F_2) $ がくるようにすると\n",
    "$$ P(C | F_1, F_2) = \\frac{P(C) \\cdot P(F_1, F_2 | C)}{P(F_1, F_2)} $$\n",
    "これは，次のように言い換えられる．  \n",
    "- posterior: 事後確率, $P(C | F_1, F_2)$, $F_1$と$F_2$がわかっているとき，そのデータがクラス$C$に属する確率\n",
    "- prior: 事前確率, $P(C)$, データについて何も情報がない場合にそのデータがクラス$C$に属する確率\n",
    "- likelihood: 尤度, $P(F_1, F_2 | C)$, あるデータがクラス$C$に属することがわかっている場合，特徴量がその$F_1，F_2$である確率\n",
    "- evidence: 証拠, $P(F_1, F_2)$, 特徴量がその$F_1$と$F_2$をとる確率, 該当する特徴量が全体に占める割合を計算して求める\n",
    "\n",
    "という言葉を使って，\n",
    "$$ posterior = \\frac{prior \\cdot likelihood}{evidence} $$\n",
    "\n",
    "likelihoodを求めるのは少し考える必要がある．  "
   ]
  },
  {
   "cell_type": "markdown",
   "metadata": {},
   "source": [
    "## ナイーブにする\n",
    "確率理論($P(A, B) = P(B) \\cdot P(A | B) $)から次の式が成り立つ\n",
    "$$ P(F_1, F_2 | C) = P(F_1 | C) \\cdot P(F_2 | C, F_1)$$\n",
    "この式は，難しい問題$P(F_1, F_2 | C)$を別の難しい問題$P(F_2 | C, F_1)$に変換したにすぎない．  \n",
    "<br>\n",
    "ここで，$F_1$と$F_2$が独立であると仮定(ナイーブ)すると，$P(F_2 | C, F_1)$を$P(F_2 | C)$とかけるため，次のように書き直すことができる．  \n",
    "$$ P(F_1, F_2 | C) = P(F_1 | C) \\cdot P(F_2 | C)$$\n",
    "<br>\n",
    "これを合わせると，次の有用な式を得られる．  \n",
    "$$ P(C | F_1, F_2) = \\frac{P(C) \\cdot P(F_1 | C) \\cdot P(F_2 | C)}{P(F_1, F_2)} $$\n",
    "<br>\n",
    "独立の過程は都合的なもので理論的には正しくないが，現実のアプリケーションでは優れた結果になることが多くあるのが興味深い．"
   ]
  },
  {
   "cell_type": "markdown",
   "metadata": {},
   "source": [
    "## ナイーブベイズを用いて分類を行う\n",
    "新しいツイートが与えられた時に行うことは，単純に次の確率を計算することである．  \n",
    "$$ P(C = \"pos\" | F_1, F_2) = \\frac{P(C=\"pos\") \\cdot P(F_1 | C=\"pos\") \\cdot P(F_2 | C=\"pos\")}{P(F_1, F_2)} $$\n",
    "$$ P(C = \"neg\" | F_1, F_2) = \\frac{P(C=\"neg\") \\cdot P(F_1 | C=\"neg\") \\cdot P(F_2 | C=\"neg\")}{P(F_1, F_2)} $$\n",
    "これらのうち，確率の大きい方を選ぶため，同じ式である分母は無視できる．  \n",
    "この計算では，実際の確率には興味がなく，どちらのクラスの方があり得るか，ということに興味がある．  \n",
    "このことが，ナイーブベイズのロバスト性を高めている理由になっている．  \n",
    "<br>\n",
    "以上を一般化すると，次の式によってツイートを分類できる．  \n",
    "$$ C_{best} = \\arg \\max_{c \\in C} P(C=c) \\cdot P(F_1 | C=c) \\cdot P(F_2 | C=c) $$"
   ]
  },
  {
   "cell_type": "markdown",
   "metadata": {},
   "source": [
    "実際の例を使って計算を行なってみる．  \n",
    "次のようなラベル付きデータが与えられているとする．  \n",
    "\n",
    "|ツイート|クラス|\n",
    "|:--|:--|\n",
    "|awesome|pos|\n",
    "|awesome|pos|\n",
    "|awesome crazy|pos|\n",
    "|crazy|pos|\n",
    "|crazy|neg|\n",
    "|crazy|neg|\n",
    "\n",
    "このデータから，事前確率は，  \n",
    "$$ P(C=pos) = \\frac{4}{6} \\approx 0.67 $$\n",
    "$$ P(C=neg) = \\frac{2}{6} \\approx 0.33 $$\n",
    "これは，あるツイートについて，その内容を何も知らない場合は，それはポジティブであると予測した方が良いということ．  \n",
    "<br>\n",
    "次に，各条件付き確率を求めていく．  \n",
    "例えば，クラスがposであるとわかっている時，awesomeが存在する確率は次のように表せる．  \n",
    "$$ P(F_1 > 0 | C=pos) = \\frac{3}{4} = 0.75 $$\n",
    "同様にして，\n",
    "$$ P(F_2 > 0 | C=pos) = 0.5 $$\n",
    "$$ P(F_1 > 0 | C=neg) = 0 $$\n",
    "$$ P(F_2 > 0 | C=neg) = 1 $$\n",
    "<br>\n",
    "ここでは，試しにevidenceも計算し，実際の確率を求めてみる．  \n",
    "$$ P(F_1, F_2) = P(F_1, F_2 | C=pos) \\cdot P(C=pos) + P(F_1, F_2 | C=neg) \\cdot P(C=neg) $$\n",
    "実際には次の値になる．  \n",
    "$$ P(F_1 > 1, F_2 > 1) = 0.22 $$\n",
    "$$ P(F_1 > 1, F_2 > 0) = 0.44 $$\n",
    "$$ P(F_1 > 0, F_2 > 1) = 0.33 $$\n",
    "$$ P(F_1 > 0, F_2 > 0) = 0 $$\n",
    "<br>\n",
    "あとは，新しいツイートから特徴量$F_1$，$F_2$を抽出し，分類器に入力するだけ．  \n",
    "awesome -> P: 0.57, N: 0 -> Positive  \n",
    "crazy -> P: 0.25, N: 1 -> Negative  \n",
    "awesome crazy -> P: 0.76, N: 0 -> Positive  \n",
    "text -> P: ∞, N: ∞ （分母となるevidenceが0) -> 不確定  \n",
    "<br>\n",
    "この不確定な時にはどのように対応すれば良いか？  "
   ]
  },
  {
   "cell_type": "markdown",
   "metadata": {},
   "source": [
    "## 新出単語への対応\n",
    "上の例は明らかにデータが足りない．不確定な値も出てしまう．  \n",
    "そこで，出現頻度に1を足すスムージング，(加算スムージング, additive smoothing, ラプラススムージング(Laplace Smoothing))を利用する．  \n",
    "ポリゴンメッシュを滑らかにする画像処理のラプラシアンスムージングとは関係ない．  \n",
    "調整可能な0以上のパラメータ$\\alpha$を足す，Lidstoneスムージングという手法も存在する．  \n",
    "<br>\n",
    "加算スムージングを行うことで，例えば\n",
    "$$ P(F_1 > 0 | C=pos) = \\frac{3}{4} = 0.75 $$\n",
    "の代わりに，\n",
    "$$ P(F_1 > 0 | C=pos) = \\frac{3＋1}{4+2} = 0.67 $$\n",
    "という計算になる．  \n",
    "分母に2が足されるのはスムージング後も確率の定義を満たすためであり，$|C| = 2$であるため．  \n",
    "これで不確定な値はなくなる．"
   ]
  },
  {
   "cell_type": "markdown",
   "metadata": {},
   "source": [
    "## アンダーフローへの対応\n",
    "特徴量が増えるごとに確率がどんどん小さくなっていく．  \n",
    "すると，Pythonでは追えなくなる程の小ささになってしまう．  \n",
    "これに対応するため，次の公式を利用する．  \n",
    "$$ \\log(x \\cdot y) = log(x) + log(y) $$\n",
    "$C_{best}$を求めるための公式の右辺の対数を取り，この公式を使うと  \n",
    "$$ \\log[ P(C) \\cdot P(F_1 | C) \\cdot P(F_2 | C) ] = \\log P(C) + \\log P(F_1 | C) + \\log P(F_2 | C) $$\n",
    "対数をとっても値の大小は変わらない(対数関数が単調増加)ので同様にクラスを選べる．  \n",
    "以上を一般化することで，$C_{best}$を求める新しい式は次のようになる．  \n",
    "$$ C_{best} = \\arg \\max_{c \\in C} \\log P(C=c) + \\sum_k \\log P(F_k | C=c) $$"
   ]
  },
  {
   "cell_type": "markdown",
   "metadata": {},
   "source": [
    "## 最初の分類器を作成し，調整を行う\n",
    "sklearn.naive_bayesパッケージには3つのナイーブベイズ分類器がある．  \n",
    "- GaussianNB\n",
    "    - 特徴量が正規分布(ガウス分布)にしたがって分布すると仮定\n",
    "    - 身長と体重から性別を分類する問題など\n",
    "- MultinomialNB\n",
    "    - ある事象が発生した回数を特徴量としていると仮定\n",
    "    - TF-IDFと相性がよい\n",
    "- BernoulliNB\n",
    "    - 単語が出現した / 出現していない の2値で特徴量が表される場合に適している．\n",
    "\n",
    "我々はこれから，単語の出現回数を特徴量として用いるので，MultinomialNBを利用する．  "
   ]
  },
  {
   "cell_type": "markdown",
   "metadata": {},
   "source": [
    "## 簡単な問題を最初に解く\n",
    "ここでは問題を簡単にするため，irrelevant， neutralを除いたpositive, negativeのみのツイートを対象とする．  "
   ]
  },
  {
   "cell_type": "code",
   "execution_count": 37,
   "metadata": {
    "scrolled": true
   },
   "outputs": [],
   "source": [
    "X, Y = load_sanders_data()\n",
    "pos_neg_idx = np.logical_or(Y==\"positive\", Y == \"negative\") # 集合に対する，論理和による選択\n",
    "X = X[pos_neg_idx]\n",
    "Y = Y[pos_neg_idx]\n",
    "Y = Y == \"positive\" # positiveはTrue, negativeはFalseとなるラベル配列を作成"
   ]
  },
  {
   "cell_type": "markdown",
   "metadata": {},
   "source": [
    "TfidfVectorizerを使って，生のテキストデータをTF-IDF(3章を参照, 全ての文書の中でその単語がどれだけレアか)特徴量に変換する．  \n",
    "ここでは，ベクトル化を行う機能と分類器を合わせて持つことができるPipelineクラスを使用する．  \n",
    "なぜ単語の重要性が特徴量になるのか？"
   ]
  },
  {
   "cell_type": "code",
   "execution_count": 38,
   "metadata": {},
   "outputs": [],
   "source": [
    "from sklearn.feature_extraction.text import TfidfVectorizer\n",
    "from sklearn.naive_bayes import MultinomialNB\n",
    "from sklearn.pipeline import Pipeline\n",
    "\n",
    "def create_ngram_model():\n",
    "    tfidf_ngrams = TfidfVectorizer(ngram_range=(1, 3), analyzer=\"word\", binary=False) # 1~3gramで全て特徴量を作り，まとめて一つの特徴空間にする\n",
    "    clf = MultinomialNB()\n",
    "    pipeline = Pipeline([ ('vect', tfidf_ngrams), ('clf', clf)]) # データを入れると，まずTF-IDFに変換してくれるようなパイプラインを作成\n",
    "    return pipeline\n",
    "\n",
    "# ここでパイプラインに名前がついているのは，パラメータ探索を自動で行うGridSearchで使える．"
   ]
  },
  {
   "cell_type": "markdown",
   "metadata": {},
   "source": [
    "我々はデータをあまり持っていないので，テストデータと訓練データをとっかえひっかえする交差検定を使う．  \n",
    "今回はKFoldではなく，テストデータをシャッフルして抽出するShuffleSplitを用いる．  \n",
    "交差検定の各試行では，「適合率-再現率曲線より下の面積(AUC)」と正解率を求める．"
   ]
  },
  {
   "cell_type": "code",
   "execution_count": 39,
   "metadata": {},
   "outputs": [],
   "source": [
    "from sklearn.metrics import precision_recall_curve, auc\n",
    "from sklearn.model_selection import ShuffleSplit\n",
    "# ShuffleSplitについて https://scikit-learn.org/stable/modules/generated/sklearn.model_selection.ShuffleSplit.html\n",
    "\n",
    "import matplotlib.pyplot as plt\n",
    "%matplotlib inline\n",
    "\n",
    "def pr_curve(precisions, recalls):\n",
    "    plt.plot(recalls, precisions)\n",
    "    plt.fill_between(recalls, precisions, facecolor='blue', alpha=0.5)\n",
    "    plt.grid()\n",
    "    plt.xlabel(\"recall\")\n",
    "    plt.ylabel(\"precisions\")\n",
    "    plt.title(\"precision-recall curve (AUC = %.3f)\" % auc(recalls, precisions))\n",
    "\n",
    "def train_model(clf_factory, X, Y, prc=True):\n",
    "    # 乱数の再現ができるようにrandom_stateを0にする\n",
    "    rs = ShuffleSplit(n_splits=10, test_size=0.3, random_state=0)\n",
    "    \n",
    "    scores = []\n",
    "    pr_scores = []\n",
    "    \n",
    "    for train, test in rs.split(X):\n",
    "        X_train, y_train = X[train], Y[train]\n",
    "        X_test, y_test = X[test], Y[test]\n",
    "        \n",
    "        clf = clf_factory()\n",
    "        clf.fit(X_train, y_train) # 訓練データを与え，TF-IDF+MultinomialNBモデルにフィッティングする\n",
    "        \n",
    "        train_score = clf.score(X_train, y_train) # 訓練データに対する正解率を取得\n",
    "        test_score = clf.score(X_test, y_test) # テストデータに対する正解率を取得\n",
    "        \n",
    "        scores.append(test_score)\n",
    "        proba = clf.predict_proba(X_test) # テストデータに対する予測結果を確率で\n",
    "        \n",
    "        precision, recall, pr_thresholds = precision_recall_curve(y_test, proba[:, 1]) # ポジティブである確率を出す\n",
    "        \n",
    "        pr_scores.append(auc(recall, precision))\n",
    "    \n",
    "    summary = (np.mean(scores), np.std(scores), np.mean(pr_scores), np.std(pr_scores))\n",
    "    print(\"Acc: %.3f \\t AccStd: %.3f \\t AUC: %.3f \\t AUCStd: %.3f\" % summary)\n",
    "    \n",
    "    if prc: pr_curve(precision, recall)"
   ]
  },
  {
   "cell_type": "code",
   "execution_count": 40,
   "metadata": {},
   "outputs": [
    {
     "name": "stdout",
     "output_type": "stream",
     "text": [
      "Acc: 0.800 \t AccStd: 0.021 \t AUC: 0.887 \t AUCStd: 0.025\n"
     ]
    },
    {
     "data": {
      "image/png": "[encoded data removed]",
      "text/plain": [
       "<Figure size 432x288 with 1 Axes>"
      ]
     },
     "metadata": {
      "needs_background": "light"
     },
     "output_type": "display_data"
    }
   ],
   "source": [
    "train_model(create_ngram_model, X, Y)"
   ]
  },
  {
   "cell_type": "markdown",
   "metadata": {},
   "source": [
    "正解率80%, AUC 88.7%を達成  \n",
    "人間でも感情分析を100%の精度で行うのは不可能であるので，この結果はとても良い結果と言える．"
   ]
  },
  {
   "cell_type": "markdown",
   "metadata": {},
   "source": [
    "## 全てのクラスを対象とする\n",
    "ツイートが感情を含むかどうかを分類するには？  \n",
    "感情の含まれるツイートを陽性と解釈し直すよう配列を修正"
   ]
  },
  {
   "cell_type": "code",
   "execution_count": 8,
   "metadata": {},
   "outputs": [],
   "source": [
    "def tweak_labels(Y, pos_sent_list):\n",
    "    # Yはオリジナルのクラスラベル配列\n",
    "    # pos_sent_listには[\"positive\", \"negative\"]のような配列が入力される\n",
    "    pos = Y == pos_sent_list[0]\n",
    "    for sent_label in pos_sent_list[1:]:\n",
    "        pos |= Y == sent_label # or演算，どちらかがTrueならTrueになる．ちなみに数値のビット演算にも使える．\n",
    "    \n",
    "    # 選ばれたラベルのところを1に，そうでないところを0にする\n",
    "    Y = np.zeros(Y.shape[0])\n",
    "    Y[pos] = 1\n",
    "    Y = Y.astype(int) # numpy配列の要素をint型に変換\n",
    "    \n",
    "    return Y"
   ]
  },
  {
   "cell_type": "markdown",
   "metadata": {},
   "source": [
    "ツイートに感情があるかないかを判別する．"
   ]
  },
  {
   "cell_type": "code",
   "execution_count": 9,
   "metadata": {},
   "outputs": [
    {
     "name": "stdout",
     "output_type": "stream",
     "text": [
      "Acc: 0.793 \t AccStd: 0.008 \t AUC: 0.675 \t AUCStd: 0.022\n"
     ]
    },
    {
     "data": {
      "image/png": "[encoded data removed]",
      "text/plain": [
       "<Figure size 432x288 with 1 Axes>"
      ]
     },
     "metadata": {
      "needs_background": "light"
     },
     "output_type": "display_data"
    }
   ],
   "source": [
    "X, Y = load_sanders_data()\n",
    "Y = tweak_labels(Y, [\"positive\", \"negative\"])\n",
    "train_model(create_ngram_model, X, Y)"
   ]
  },
  {
   "cell_type": "markdown",
   "metadata": {},
   "source": [
    "ここで，感情を含むツイートは全体の20%程度である偏ったものであることに留意すると，ツイートを見なくても感情を含むかどうかは8割でわかる．  \n",
    "ということは，この正答率0.793はツイートを見ていないのと同程度の正解率であり，役に立たない．  "
   ]
  },
  {
   "cell_type": "markdown",
   "metadata": {},
   "source": [
    "つぎに，ナイーブベイズ分類器がポジティブとそれ以外を分類する場合を調べてみる．"
   ]
  },
  {
   "cell_type": "code",
   "execution_count": 10,
   "metadata": {},
   "outputs": [
    {
     "name": "stdout",
     "output_type": "stream",
     "text": [
      "Acc: 0.901 \t AccStd: 0.004 \t AUC: 0.279 \t AUCStd: 0.036\n"
     ]
    },
    {
     "data": {
      "image/png": "[encoded data removed]",
      "text/plain": [
       "<Figure size 432x288 with 1 Axes>"
      ]
     },
     "metadata": {
      "needs_background": "light"
     },
     "output_type": "display_data"
    }
   ],
   "source": [
    "# ポジティブ vs その他\n",
    "X, Y = load_sanders_data()\n",
    "Y = tweak_labels(Y, [\"positive\"])\n",
    "train_model(create_ngram_model, X, Y)"
   ]
  },
  {
   "cell_type": "code",
   "execution_count": 11,
   "metadata": {},
   "outputs": [
    {
     "name": "stdout",
     "output_type": "stream",
     "text": [
      "Acc: 0.887 \t AccStd: 0.007 \t AUC: 0.477 \t AUCStd: 0.030\n"
     ]
    },
    {
     "data": {
      "image/png": "[encoded data removed]",
      "text/plain": [
       "<Figure size 432x288 with 1 Axes>"
      ]
     },
     "metadata": {
      "needs_background": "light"
     },
     "output_type": "display_data"
    }
   ],
   "source": [
    "# ネガティブ vs その他\n",
    "X, Y = load_sanders_data()\n",
    "Y = tweak_labels(Y, [\"negative\"])\n",
    "train_model(create_ngram_model, X, Y)"
   ]
  },
  {
   "cell_type": "markdown",
   "metadata": {},
   "source": [
    "どちらもAUCが上がらない．"
   ]
  },
  {
   "cell_type": "markdown",
   "metadata": {},
   "source": [
    "## 分類器のパラメータを調整する\n",
    "TfidfVectorizerとMultinomialNBに適当なパラメータを割り当ててみる  \n",
    "- TfidfVectorizer\n",
    "    - NGramsについて，ユニグラム，バイグラム，トライグラムをそれぞれ試してみる\n",
    "    - min_dfについては1,2の場合を試す\n",
    "    - IF-IDFにおけるIDFの影響を検証するため，use_idfとsmooth_idfについてFalseとTrueの場合を試す\n",
    "    - stop_wordsにEnglish，Noneを試す\n",
    "    - 単語の頻度(sublinear_tf)について，対数を用いるかどうかを検証\n",
    "    - 記録する対象を単語の出現回数か単語の出現の有無にするかをbinaryをTrueまたはFalseにして試す\n",
    "- MultinomialNB\n",
    "    - スムージングについて検証するため，alphaに次の値を設定\n",
    "        - 1: ラプラススムージング\n",
    "        - 0.01, 0.05, 0.1, 0.5: Lidstoneスムージング\n",
    "        - 0: スムージングなし\n",
    "\n",
    "これらの組み合わせを全てやっていると時間がかかる．  \n",
    "こういったパラメータ探索には，sklearnのGridSearchCVと呼ばれるクラスを使うと良い．  \n",
    "推定器(分類器のようなもの)インスタンスと候補となるパラメータ値を辞書で渡す．  \n",
    "推定器としては，この場合Pipelineのインスタンスを入力する．  \n",
    "パラメータ辞書は，キーを以下のフォーマットに従わせる必要がある．  \n",
    "<br>\n",
    "<div style=\"text-align: center\">[estimator]__[subestimator]__...__[param_name]</div>\n",
    "<br>\n",
    "例えば，TfidfVectorizer(変数名vect)のngram_rangeパラメータについて候補となる値を探索する時には，  "
   ]
  },
  {
   "cell_type": "code",
   "execution_count": 12,
   "metadata": {},
   "outputs": [],
   "source": [
    "Param_grid = {\"vect__ngram_range\": [(1,1), (1,2), (1,3)]}"
   ]
  },
  {
   "cell_type": "markdown",
   "metadata": {},
   "source": [
    "となる.  \n",
    "最終的な結果は，メンバ変数であるbest_estimator_に最適なパラメータの組み合わせが収められる．  \n",
    "<br>\n",
    "GridSearchCVのメンバ変数であるcv(Cross-Validation)にShuffleSplitインスタンスを渡すことで交差検定ができる．  \n",
    "また，score_funcメンバ変数にスコアを算出する関数を指定する．  \n",
    "我々が扱うデータには偏りがあるため，metric.accuracyを基準にするべきではない．  \n",
    "<br>\n",
    "ここでは，適合率と再現率から計算できる，F値(F-measure)を用いる．  \n",
    "F値はmetrics.f1_scoreで実装されており，式は以下になる．  \n",
    "$$ F = \\frac{2 \\cdot precision \\cdot recall}{precision + recall} $$\n",
    "<br>\n",
    "F値はprecisionとrecallの[調和平均](https://mathtrain.jp/hmean)と呼ばれるもの.\n",
    "調和平均$H$とは，平均を撮るものが$a, b$の2個の場合は，  \n",
    "$$ \\frac{1}{H} = \\frac{1}{2} \\Bigl( \\frac{1}{a} + \\frac{1}{b} \\Bigr) $$\n",
    "で表される．  \n",
    "例えば，速度の問題で，「1kmの道を行きは$a$km/h, 帰りは$b$km/hで走った時の平均時速」は$H$になる．  \n",
    "調和平均は，％，つまり率の平均を取るのに良いとされている．  "
   ]
  },
  {
   "cell_type": "code",
   "execution_count": 13,
   "metadata": {},
   "outputs": [],
   "source": [
    "def harmonic_average(lst):\n",
    "    return len(lst) / sum([1.0 / i for i in lst])"
   ]
  },
  {
   "cell_type": "code",
   "execution_count": 14,
   "metadata": {},
   "outputs": [
    {
     "name": "stdout",
     "output_type": "stream",
     "text": [
      "調和平均\n",
      "0.5\n",
      "0.18\n",
      "0.1\n",
      "0.8999999999999999\n",
      "\n",
      "相乗平均\n",
      "0.5\n",
      "0.30000000000000004\n",
      "0.1\n",
      "0.9\n",
      "\n",
      "相加平均\n",
      "0.5\n",
      "0.5\n",
      "0.1\n",
      "0.9\n"
     ]
    }
   ],
   "source": [
    "print(\"調和平均\")\n",
    "print(harmonic_average([0.5, 0.5]))\n",
    "print(harmonic_average([0.1, 0.9]))\n",
    "print(harmonic_average([0.1, 0.1]))\n",
    "print(harmonic_average([0.9, 0.9]))\n",
    "print()\n",
    "\n",
    "print(\"相乗平均\")\n",
    "import math\n",
    "print(math.sqrt(np.multiply.accumulate([0.5, 0.5])[-1]))\n",
    "print(math.sqrt(np.multiply.accumulate([0.1, 0.9])[-1]))\n",
    "print(math.sqrt(np.multiply.accumulate([0.1, 0.1])[-1]))\n",
    "print(math.sqrt(np.multiply.accumulate([0.9, 0.9])[-1]))\n",
    "print()\n",
    "\n",
    "print(\"相加平均\")\n",
    "print(sum([0.5, 0.5]) / 2)\n",
    "print(sum([0.1, 0.9]) / 2)\n",
    "print(sum([0.1, 0.1]) / 2)\n",
    "print(sum([0.9, 0.9]) / 2)"
   ]
  },
  {
   "cell_type": "markdown",
   "metadata": {},
   "source": [
    "上記の結果からわかるように，調和平均は同じ値の時はそのままという平均の性質を保ちつつ，値が低い方に引っ張られやすいという性質を持つ．  \n",
    "今回の場合，precisionもrecallも高い水準であって欲しいため，どちらかでも値が低いことに対してペナルティが大きい評価基準であると言える．"
   ]
  },
  {
   "cell_type": "markdown",
   "metadata": {},
   "source": [
    "以上をまとめ，パラメータ調整を行なっていく．"
   ]
  },
  {
   "cell_type": "code",
   "execution_count": 15,
   "metadata": {},
   "outputs": [],
   "source": [
    "from sklearn.model_selection import GridSearchCV\n",
    "from sklearn.metrics import f1_score, make_scorer\n",
    "\n",
    "def grid_search_model(clf_factory, X, Y):\n",
    "    rs = ShuffleSplit(n_splits=10, test_size=0.3, random_state=0)\n",
    "    \n",
    "    param_grid = dict(\n",
    "        vect__ngram_range=[(1, 1), (1, 2), (1, 3)],\n",
    "        vect__min_df=[1, 2],\n",
    "        vect__stop_words=[None, \"english\"],\n",
    "        vect__smooth_idf=[False, True],\n",
    "        vect__use_idf=[False, True],\n",
    "        vect__sublinear_tf=[False, True],\n",
    "        vect__binary=[False, True],\n",
    "        clf__alpha=[0, 0.01, 0.05, 0.1, 0.5, 1],\n",
    "    )\n",
    "    \n",
    "    # Pipelineで名付けたvect, clfに対して，param_gridで指定したパラメータを使ってグリッドサーチする．\n",
    "    grid_search = GridSearchCV(\n",
    "        clf_factory(), \n",
    "        param_grid=param_grid,\n",
    "        cv = rs,\n",
    "        scoring=make_scorer(f1_score),\n",
    "        verbose=10\n",
    "    )\n",
    "    \n",
    "    grid_search.fit(X, Y)\n",
    "    \n",
    "    return grid_search.best_estimator_"
   ]
  },
  {
   "cell_type": "code",
   "execution_count": 33,
   "metadata": {},
   "outputs": [
    {
     "name": "stdout",
     "output_type": "stream",
     "text": [
      "Optimized Classifier Parameters are Loaded through Pickle\n",
      "Pipeline(memory=None,\n",
      "     steps=[('vect', TfidfVectorizer(analyzer='word', binary=False, decode_error='strict',\n",
      "        dtype=<class 'numpy.float64'>, encoding='utf-8', input='content',\n",
      "        lowercase=True, max_df=1.0, max_features=None, min_df=1,\n",
      "        ngram_range=(1, 2), norm='l2', preprocessor=None, smooth_idf=False,...se,\n",
      "        vocabulary=None)), ('clf', MultinomialNB(alpha=0.01, class_prior=None, fit_prior=True))])\n"
     ]
    }
   ],
   "source": [
    "import pickle\n",
    "\n",
    "try:\n",
    "    with open(\"./data/06_clf_1.pkl\", \"rb\") as f:\n",
    "        clf = pickle.load(f)\n",
    "        print(\"Optimized Classifier Parameters are Loaded through Pickle\")\n",
    "        print(clf)\n",
    "except:\n",
    "    X, Y = load_sanders_data()\n",
    "    Y = tweak_labels(Y, [\"positive\", \"negative\"])\n",
    "\n",
    "    # 1152通りのパラメータの組み合わせを交差検定するため，46分程度を要する\n",
    "    clf = grid_search_model(create_ngram_model, X, Y)\n",
    "    with open(\"./data/06_clf_1.pkl\", \"wb\") as f:\n",
    "        pickle.dump(clf, f)\n",
    "    print(clf)"
   ]
  },
  {
   "cell_type": "code",
   "execution_count": 34,
   "metadata": {},
   "outputs": [
    {
     "data": {
      "text/plain": [
       "[('vect', TfidfVectorizer(analyzer='word', binary=False, decode_error='strict',\n",
       "          dtype=<class 'numpy.float64'>, encoding='utf-8', input='content',\n",
       "          lowercase=True, max_df=1.0, max_features=None, min_df=1,\n",
       "          ngram_range=(1, 2), norm='l2', preprocessor=None, smooth_idf=False,\n",
       "          stop_words=None, strip_accents=None, sublinear_tf=False,\n",
       "          token_pattern='(?u)\\\\b\\\\w\\\\w+\\\\b', tokenizer=None, use_idf=False,\n",
       "          vocabulary=None)),\n",
       " ('clf', MultinomialNB(alpha=0.01, class_prior=None, fit_prior=True))]"
      ]
     },
     "execution_count": 34,
     "metadata": {},
     "output_type": "execute_result"
    }
   ],
   "source": [
    "clf.steps"
   ]
  },
  {
   "cell_type": "code",
   "execution_count": 41,
   "metadata": {},
   "outputs": [
    {
     "name": "stdout",
     "output_type": "stream",
     "text": [
      "Acc: 0.839 \t AccStd: 0.008 \t AUC: 0.702 \t AUCStd: 0.017\n"
     ]
    },
    {
     "data": {
      "image/png": "[encoded data removed]",
      "text/plain": [
       "<Figure size 432x288 with 1 Axes>"
      ]
     },
     "metadata": {
      "needs_background": "light"
     },
     "output_type": "display_data"
    }
   ],
   "source": [
    "def optimized_ngram_model():\n",
    "    return clf\n",
    "\n",
    "X, Y = load_sanders_data()\n",
    "X, Y = load_sanders_data()\n",
    "Y = tweak_labels(Y, [\"positive\", \"negative\"])\n",
    "train_model(optimized_ngram_model, X, Y)"
   ]
  },
  {
   "cell_type": "markdown",
   "metadata": {},
   "source": [
    "AUCは3.3%程度向上する．Pos vs Rest, Neg vs Restに関しては10~20%程度のAUCの向上が見られる．  \n",
    "しかし，大した向上ではない．  \n",
    "続いて，データの整形を行うことで精度を上げていく．"
   ]
  },
  {
   "cell_type": "markdown",
   "metadata": {},
   "source": [
    "# ツイートを整形する\n",
    "TfidfVectorizerのpreprocessor()という自前の関数でツイートの整形，前処理を行う．  \n",
    "手始めに顔文字を単語に書き換える．  \n"
   ]
  },
  {
   "cell_type": "code",
   "execution_count": 19,
   "metadata": {},
   "outputs": [],
   "source": [
    "import re\n",
    "\n",
    "emo_repl = {\n",
    "    # ポジティブな顔文字\n",
    "    \"&lt;3\": \" good \",\n",
    "    \":d\": \" good \",\n",
    "    \":dd\": \" good \",\n",
    "    \"8)\": \" good \",\n",
    "    \":-)\": \" good \",\n",
    "    \":)\": \" good \",\n",
    "    \";)\": \" good \",\n",
    "    \"(-:\": \" good \",\n",
    "    \"(:\": \" good \",\n",
    "    \n",
    "    # ネガティブな顔文字\n",
    "    \":/\": \"bad\",\n",
    "    \":&gt\": \"sad\",\n",
    "    \":')'\": \"sad\",\n",
    "    \":-(\": \"bad\",\n",
    "    \":(\": \"bad\",\n",
    "    \":S\": \"bad\",\n",
    "    \":-S\": \"bad\",\n",
    "}\n",
    "\n",
    "# たとえば，\":dd\"より先に\":d\"で置き換えられないように，置き換えの順番を決める\n",
    "emo_repl_order = [k for (k_len, k) in sorted([(len(k), k) for k in emo_repl.keys()])[::-1] ]\n",
    "\n",
    "# 略語を正規表現で対応づけ\n",
    "# \\b: 空文字列とマッチしますが、単語の先頭か末尾の時だけです。\n",
    "# r'\\bfoo\\b' は'foo' , 'foo.' , '(foo)', 'bar foo baz' にマッチしますが、'foobar', 'foo3' にはマッチしません。\n",
    "re_repl = {\n",
    "    r\"\\br\\b\": \"are\",\n",
    "    r\"\\bu\\b\": \"you\",\n",
    "    r\"\\bhaha\\b\": \"ha\",\n",
    "    r\"\\bhahaha\\b\": \"ha\",\n",
    "    r\"\\bdon't\\b\": \"do not\",\n",
    "    r\"\\bdoesn't\\b\": \"does not\",\n",
    "    r\"\\bdidn't\\b\": \"did not\",\n",
    "    r\"\\bhasn't\\b\": \"has not\",\n",
    "    r\"\\bhaven't\\b\": \"have not\",\n",
    "    r\"\\bhadn't\\b\": \"had not\",\n",
    "    r\"\\bwon't\\b\": \"will not\",\n",
    "    r\"\\bwouldn't\\b\": \"would not\",\n",
    "    r\"\\bcan't\\b\": \"can not\",\n",
    "    r\"\\bcannot\\b\": \"can not\",\n",
    "}\n",
    "\n",
    "def create_ngram_model(params=None):\n",
    "    \n",
    "    def preprocessor(tweet):\n",
    "        global emotions_replaced\n",
    "        tweet = tweet.lower()\n",
    "        \n",
    "        for k in emo_repl_order:\n",
    "            tweet = tweet.replace(k, emo_repl[k])\n",
    "        for r, repl in re_repl.items():\n",
    "            tweet = re.sub(r, repl, tweet)\n",
    "        \n",
    "        return tweet\n",
    "    \n",
    "    tfidf_ngrams = TfidfVectorizer(\n",
    "        preprocessor=preprocessor,\n",
    "        ngram_range=(1, 2), \n",
    "        smooth_idf=False, \n",
    "        use_idf=False,\n",
    "        binary=False)\n",
    "    clf = MultinomialNB(alpha=0.01)\n",
    "    pipeline = Pipeline([ ('vect', tfidf_ngrams), ('clf', clf)])\n",
    "    return pipeline"
   ]
  },
  {
   "cell_type": "code",
   "execution_count": 20,
   "metadata": {},
   "outputs": [
    {
     "name": "stdout",
     "output_type": "stream",
     "text": [
      "pos vs neg\n",
      "Acc: 0.804 \t AccStd: 0.014 \t AUC: 0.889 \t AUCStd: 0.020\n",
      "emo vs rest\n",
      "Acc: 0.838 \t AccStd: 0.008 \t AUC: 0.704 \t AUCStd: 0.017\n",
      "pos vs rest\n",
      "Acc: 0.912 \t AccStd: 0.005 \t AUC: 0.511 \t AUCStd: 0.043\n",
      "neg vs rest\n",
      "Acc: 0.908 \t AccStd: 0.008 \t AUC: 0.653 \t AUCStd: 0.024\n"
     ]
    }
   ],
   "source": [
    "X_org, Y_org = load_sanders_data()\n",
    "print(\"pos vs neg\")\n",
    "pos_neg_idx = np.logical_or(Y_org==\"positive\", Y_org == \"negative\") # 集合に対する，論理和による選択\n",
    "X = X_org[pos_neg_idx]\n",
    "Y = Y_org[pos_neg_idx]\n",
    "Y = Y == \"positive\"\n",
    "train_model(create_ngram_model, X, Y, prc=False)\n",
    "\n",
    "print(\"emo vs rest\")\n",
    "X = X_org\n",
    "Y = tweak_labels(Y_org, [\"positive\", \"negative\"])\n",
    "train_model(create_ngram_model, X, Y, prc=False)\n",
    "\n",
    "print(\"pos vs rest\")\n",
    "X = X_org\n",
    "Y = tweak_labels(Y_org, [\"positive\"])\n",
    "train_model(create_ngram_model, X, Y, prc=False)\n",
    "\n",
    "print(\"neg vs rest\")\n",
    "X = X_org\n",
    "Y = tweak_labels(Y_org, [\"negative\"])\n",
    "train_model(create_ngram_model, X, Y, prc=False)"
   ]
  },
  {
   "cell_type": "markdown",
   "metadata": {},
   "source": [
    "顔文字は限定されたものであるが，結構精度を向上させることができた．"
   ]
  },
  {
   "cell_type": "markdown",
   "metadata": {},
   "source": [
    "# 単語の種類を考慮する\n",
    "名詞よりも形容詞や動詞の方が感情を含むツイートに多く含まれていそう．  \n",
    "品詞タグづけ(part of speech (POS) tagging)  \n",
    "POSタガー： 文章全体をパースし，単語の依存関係を分析することで，bookのような名詞にも動詞にもなれたりする単語に品詞タグづけを行う  \n",
    "今回はnltkに入っている品詞タガーを使う．  "
   ]
  },
  {
   "cell_type": "code",
   "execution_count": 21,
   "metadata": {},
   "outputs": [],
   "source": [
    "import nltk"
   ]
  },
  {
   "cell_type": "code",
   "execution_count": 22,
   "metadata": {},
   "outputs": [
    {
     "name": "stderr",
     "output_type": "stream",
     "text": [
      "[nltk_data] Downloading package punkt to ./data...\n",
      "[nltk_data]   Package punkt is already up-to-date!\n",
      "[nltk_data] Downloading package averaged_perceptron_tagger to\n",
      "[nltk_data]     ./data...\n",
      "[nltk_data]   Package averaged_perceptron_tagger is already up-to-\n",
      "[nltk_data]       date!\n"
     ]
    }
   ],
   "source": [
    "# データのダウンロード，詳しくはゼロから作るディープラーニング2の付録のノートブックを参照\n",
    "nltk.download(download_dir=\"./data\", info_or_id=\"punkt\")\n",
    "nltk.download(download_dir=\"./data\", info_or_id=\"averaged_perceptron_tagger\")\n",
    "nltk.data.path.append('/Users/komatsu/programing/machinelearning/BuildingMachineLearningSystems/data')"
   ]
  },
  {
   "cell_type": "code",
   "execution_count": 23,
   "metadata": {
    "scrolled": true
   },
   "outputs": [
    {
     "name": "stdout",
     "output_type": "stream",
     "text": [
      "['This', 'is', 'a', 'book', '.']\n",
      "[('This', 'DT'), ('is', 'VBZ'), ('a', 'DT'), ('book', 'NN'), ('.', '.')]\n",
      "[('Could', 'NNP'), ('you', 'PRP'), ('please', 'VBP'), ('book', 'NN'), ('the', 'DT'), ('flight', 'NN'), ('?', '.')]\n"
     ]
    }
   ],
   "source": [
    "token = nltk.word_tokenize(\"This is a book.\")\n",
    "print(token)\n",
    "\n",
    "print(nltk.pos_tag(token))\n",
    "\n",
    "print(nltk.pos_tag(nltk.word_tokenize(\"Could you please book the flight?\")))"
   ]
  },
  {
   "cell_type": "markdown",
   "metadata": {},
   "source": [
    "DTとかVBZとかは品詞を表す．  \n",
    "その意味は以下(http://www.anc.org/OANC/penn.html より転載)  \n",
    "\n",
    "<TABLE border=\"2\" cellspacing=\"2\">\n",
    "<TR><TH> POS Tag  </TH><TH> Description     </TH><TH> Example </TH></TR>\n",
    "<TR><TD> CC  </TD><TD> coordinating conjunction  </TD><TD> and </TD></TR>\n",
    "<TR><TD> CD  </TD><TD> cardinal number </TD><TD> 1, third </TD></TR>\n",
    "<TR><TD> DT  </TD><TD> determiner  </TD><TD> the  </TD></TR>\n",
    "<TR><TD> EX  </TD><TD> existential there </TD><TD> <i>there</i> is </TD></TR>\n",
    "<TR><TD> FW  </TD><TD> foreign word  </TD><TD> d'hoevre  </TD></TR>\n",
    "<TR><TD> IN  </TD><TD> preposition/subordinating conjunction </TD><TD> in, of, like </TD></TR>\n",
    "<TR><TD> JJ   </TD><TD> adjective    </TD><TD> green  </TD></TR>\n",
    "<TR><TD> JJR   </TD><TD> adjective, comparative    </TD><TD> greener  </TD></TR>\n",
    "<TR><TD> JJS   </TD><TD> adjective, superlative    </TD><TD> greenest  </TD></TR>\n",
    "<TR><TD> LS  </TD><TD> list marker  </TD><TD> 1)  </TD></TR>\n",
    "<TR><TD> MD  </TD><TD> modal </TD><TD> could, will </TD></TR>\n",
    "<TR><TD> NN  </TD><TD> noun, singular or mass </TD><TD> table </TD></TR>\n",
    "<TR><TD> NNS </TD><TD>  noun plural </TD><TD> tables </TD></TR>\n",
    "<TR><TD> NNP </TD><TD>  proper noun, singular  </TD><TD> John      </TD></TR>\n",
    "<TR><TD> NNPS </TD><TD> proper noun, plural  </TD><TD> Vikings  </TD></TR>\n",
    "<TR><TD> PDT  </TD><TD> predeterminer  </TD><TD> <i>both</i> the boys  </TD></TR>\n",
    "<TR><TD> POS  </TD><TD> possessive ending  </TD><TD> friend<i>'s</i>  </TD></TR>\n",
    "<TR><TD> PRP  </TD><TD> personal pronoun  </TD><TD> I, he, it </TD></TR>\n",
    "<TR><TD> PRP(doller)  </TD><TD> possessive pronoun  </TD><TD> my, his </TD></TR>\n",
    "<TR><TD> RB   </TD><TD> adverb   </TD><TD> however, usually, naturally, here, good </TD></TR>\n",
    "<TR><TD> RBR   </TD><TD> adverb, comparative   </TD><TD> better</TD></TR>\n",
    "<TR><TD> RBS   </TD><TD> adverb, superlative   </TD><TD> best </TD></TR>\n",
    "<TR><TD> RP   </TD><TD> particle  </TD><TD> give <i> up </i></TD> </TR>\n",
    "<TR><TD> TO  </TD><TD> to </TD><TD> <i>to</i> go, <i>to</i> him </TD> </TR>\n",
    "<TR><TD> UH  </TD><TD> interjection  </TD><TD> uhhuhhuhh </TD> </TR>\n",
    "<TR><TD> VB  </TD><TD> verb, base form  </TD><TD> take  </TD></TR>\n",
    "<TR><TD> VBD </TD><TD>  verb, past tense   </TD><TD> took </TD></TR>\n",
    "<TR><TD> VBG </TD><TD>  verb, gerund/present participle </TD><TD> taking  </TD></TR>\n",
    "<TR><TD> VBN  </TD><TD> verb, past participle    </TD><TD> taken     </TD></TR>\n",
    "<TR><TD> VBP  </TD><TD> verb, sing. present, non-3d  </TD><TD>  take </TD> </TR>\n",
    "<TR><TD> VBZ  </TD><TD> verb, 3rd person sing. present  </TD><TD> takes   </TD></TR>\n",
    "<TR><TD> WDT   </TD><TD> wh-determiner    </TD><TD> which  </TD></TR>\n",
    "<TR><TD> WP   </TD><TD> wh-pronoun  </TD><TD> who, what </TD></TR>\n",
    "<TR><TD> WP(doller)   </TD><TD> possessive wh-pronoun  </TD><TD> whose  </TD></TR>\n",
    "<TR><TD> WRB   </TD><TD> wh-abverb  </TD><TD> where, when </TD></TR>\n",
    "</TABLE>\n",
    "\n",
    "ここでは単純に，NN->名詞， VB->動詞， JJ->形容詞, RB->副詞としてカウント"
   ]
  },
  {
   "cell_type": "markdown",
   "metadata": {},
   "source": [
    "##  SentiWordNetを活用する\n",
    "さらに，多くの英単語にポジティブ，ネガティブの度合いをスコアとしてデータ化した，[SentiWordNet](https://sentiwordnet.isti.cnr.it/)を利用する．  \n",
    "それぞれの単語について，POS, ID, PosScore, NegScore, SynsetTerms, Descriptionがある．  \n",
    "例えばfantasizeという単語には，想像する，という意味と~を思い浮かべて欲情する，という意味があり，この場合は別々の意味についてスコア化されている．  \n",
    "ここでは簡単のため，複数の同義語はPosスコアとNegスコアでそれぞれ平均をとる．   \n",
    "キーとしてn/implantのような単語，バリューとしてポジティブスコアとネガティブスコアを持つ辞書を返す関数load_sent_word_netを作成"
   ]
  },
  {
   "cell_type": "code",
   "execution_count": 24,
   "metadata": {},
   "outputs": [],
   "source": [
    "import csv, collections\n",
    "def load_sent_word_net():\n",
    "    sent_scores = collections.defaultdict(list)\n",
    "    \n",
    "    with open(\"./data/SentiWordNet.txt\", \"r\") as f:\n",
    "        reader = csv.reader(f, delimiter='\\t', quotechar='\"')\n",
    "        for line in reader:\n",
    "            if line[0].startswith(\"#\") or len(line) == 1 : # コメントは飛ばす\n",
    "                continue\n",
    "            \n",
    "            POS, ID, PosScore, NegScore, SynsetTerms, Gloss = line\n",
    "            if len(POS) == 0 or len(ID) == 0:\n",
    "                continue\n",
    "            \n",
    "            for term in SynsetTerms.split(\" \"):\n",
    "                # 最後の要素は取り除く\n",
    "                term = term.split(\"#\")[0]\n",
    "                term = term.replace(\"-\", \" \").replace(\"_\", \" \")\n",
    "                key = \"%s/%s\" %(POS, term.split(\"#\")[0])\n",
    "                sent_scores[key].append((float(PosScore), float(NegScore)))\n",
    "    \n",
    "    for key, value in sent_scores.items():\n",
    "        sent_scores[key] = np.mean(value, axis=0)\n",
    "    \n",
    "    return sent_scores"
   ]
  },
  {
   "cell_type": "markdown",
   "metadata": {},
   "source": [
    "## 最初の推定器\n",
    "上記で説明したようにして，新たな特徴量を抽出するため，BaseEstimatorを継承したクラスを実装する．  \n",
    "以下のメソッドを実装する必要がある．\n",
    "- get_feature_names(): 特徴量の名前のリストを返す．  \n",
    "- fit(document, y=None): このクラスでは分類器まで実装しないため無視できるが，selfを返す．  \n",
    "- transform(documents): get_feature_namesで指定した特徴量の計算を行う．  (len(documents), len(get_feature_names))の大きさのnp配列を返す．"
   ]
  },
  {
   "cell_type": "code",
   "execution_count": 25,
   "metadata": {},
   "outputs": [],
   "source": [
    "from sklearn.base import BaseEstimator\n",
    "\n",
    "sent_word_net = load_sent_word_net()\n",
    "\n",
    "class LinguisticVectorizer(BaseEstimator):\n",
    "    \n",
    "    # ここで定義した特徴量をtransformで計算して返す\n",
    "    def get_feature_names(self):\n",
    "        return np.array(\n",
    "            ['sent_neut', 'sent_pos', 'sent_neg', 'nouns', 'adjectives', 'adverbs', 'allcaps', 'exclamation', 'question', 'hashtag', 'mentioning']\n",
    "        )\n",
    "    \n",
    "    # ここではfit関数は必要ないが，selfを返すことで，fit(d).transform(d)のような使い方ができる．\n",
    "    def fit(self, documents, y=None):\n",
    "        return self\n",
    "    \n",
    "    # nltkの品詞(Part of Speech, POS)タグと，それを元にしたsent_word_netのpos negスコアなどを返す\n",
    "    def _get_sentiments(self, d):\n",
    "        sent = tuple(d.split())\n",
    "        tagged = nltk.pos_tag(sent) # それぞれの単語についてタグを取得\n",
    "        \n",
    "        pos_vals = []\n",
    "        neg_vals = []\n",
    "        \n",
    "        nouns = 0.\n",
    "        adjectives = 0.\n",
    "        verbs = 0.\n",
    "        adverbs = 0.\n",
    "        \n",
    "        for w, t in tagged:\n",
    "            p, n = 0, 0\n",
    "            sent_pos_type = None\n",
    "            \n",
    "            if t.startswith(\"NN\"):\n",
    "                sent_pos_type=\"n\"\n",
    "                nouns += 1\n",
    "            elif t.startswith(\"JJ\"):\n",
    "                sent_pos_type = \"a\"\n",
    "                adjectives += 1\n",
    "            elif t.startswith(\"VB\"):\n",
    "                sent_pos_type = \"v\"\n",
    "                verbs += 1\n",
    "            elif t.startswith(\"RB\"):\n",
    "                sent_pos_type = \"r\"\n",
    "                adverbs += 1\n",
    "            \n",
    "            # 品詞がわかったらsent_word_netにその単語があるかを検索し，pos neg スコアを辞書から獲得\n",
    "            if sent_pos_type is not None:\n",
    "                sent_word = \"%s/%s\" % (sent_pos_type, w)\n",
    "                if sent_word in sent_word_net:\n",
    "                    p, n = sent_word_net[sent_word]\n",
    "            \n",
    "            pos_vals.append(p)\n",
    "            neg_vals.append(n)\n",
    "        \n",
    "        l = len(sent)\n",
    "        avg_pos_val = np.mean(pos_vals) # 文書の平均ポジティブスコア\n",
    "        avg_neg_val = np.mean(neg_vals) # 文書の平均ネガティブスコア\n",
    "        return [1 - avg_pos_val - avg_neg_val, avg_pos_val, avg_neg_val, nouns/l, adjectives/l, verbs/l, adverbs/l]\n",
    "    \n",
    "    def transform(self, documents):\n",
    "        obj_val, pos_val, neg_val, nouns, adjectives, verbs, adverbs = np.array([self._get_sentiments(d) for d in documents]).T\n",
    "        \n",
    "        allcaps = []\n",
    "        exclamation = []\n",
    "        question = []\n",
    "        hashtag = []\n",
    "        mentioning = []\n",
    "        \n",
    "        for d in documents:\n",
    "            allcaps.append(np.sum([t.isupper() for t in d.split() if len(t) > 2]))  # 全て大文字の単語の数を感情分析に利用, t: 単語, d: ドキュメント\n",
    "            exclamation.append(d.count(\"!\"))\n",
    "            question.append(d.count(\"?\"))\n",
    "            hashtag.append(d.count(\"#\"))\n",
    "            mentioning.append(d.count(\"@\"))\n",
    "        \n",
    "        return np.array([obj_val, pos_val, neg_val, nouns, adjectives, verbs, adverbs, allcaps, exclamation, question, hashtag, mentioning]).T"
   ]
  },
  {
   "cell_type": "markdown",
   "metadata": {},
   "source": [
    "## 全てを統合する\n",
    "上記の言語学に関する情報に加え，TfidfVectorizerを合わせて利用する．  \n",
    "これには，sklearnのFeatureUnionクラスを利用する．  \n",
    "FeatureUnionは推定器の評価に，順に特徴量の抽出を行うのではなく，並列に計算を行い，最後に結果となるベクトルをまとめる．"
   ]
  },
  {
   "cell_type": "code",
   "execution_count": 30,
   "metadata": {},
   "outputs": [],
   "source": [
    "from sklearn.feature_extraction.text import TfidfVectorizer\n",
    "from sklearn.naive_bayes import MultinomialNB\n",
    "from sklearn.pipeline import Pipeline, FeatureUnion\n",
    "\n",
    "def create_union_model(params=None):\n",
    "    def preprocessor(tweet):\n",
    "        tweet = tweet.lower()\n",
    "        for k in emo_repl_order:\n",
    "            tweet = tweet.replace(k, emo_repl[k])\n",
    "        for r, repl in re_repl.items():\n",
    "            tweet = re.sub(r, repl, tweet)\n",
    "        \n",
    "        return tweet.replace(\"-\", \" \").replace(\"_\", \" \")\n",
    "    \n",
    "    tfidf_ngrams = tfidf_ngrams = TfidfVectorizer(\n",
    "        preprocessor=preprocessor,\n",
    "        ngram_range=(1, 2), \n",
    "        smooth_idf=False, \n",
    "        use_idf=False,\n",
    "        binary=False)\n",
    "    ling_stats = LinguisticVectorizer()\n",
    "    all_features = FeatureUnion([('ling', ling_stats), ('tfidf', tfidf_ngrams)])\n",
    "    clf = MultinomialNB(alpha=0.01)\n",
    "    pipeline = Pipeline([('all', all_features), ('clf', clf)])\n",
    "    \n",
    "    if params:\n",
    "        pipeline.set_params(**params)\n",
    "    \n",
    "    return pipeline"
   ]
  },
  {
   "cell_type": "code",
   "execution_count": 31,
   "metadata": {},
   "outputs": [
    {
     "name": "stdout",
     "output_type": "stream",
     "text": [
      "pos vs neg\n",
      "Acc: 0.803 \t AccStd: 0.020 \t AUC: 0.883 \t AUCStd: 0.018\n",
      "emo vs rest\n",
      "Acc: 0.834 \t AccStd: 0.008 \t AUC: 0.699 \t AUCStd: 0.012\n",
      "pos vs rest\n",
      "Acc: 0.913 \t AccStd: 0.005 \t AUC: 0.525 \t AUCStd: 0.040\n",
      "neg vs rest\n",
      "Acc: 0.897 \t AccStd: 0.006 \t AUC: 0.625 \t AUCStd: 0.020\n"
     ]
    }
   ],
   "source": [
    "X_org, Y_org = load_sanders_data()\n",
    "print(\"pos vs neg\")\n",
    "pos_neg_idx = np.logical_or(Y_org==\"positive\", Y_org == \"negative\") # 集合に対する，論理和による選択\n",
    "X = X_org[pos_neg_idx]\n",
    "Y = Y_org[pos_neg_idx]\n",
    "Y = Y == \"positive\"\n",
    "train_model(create_union_model, X, Y, prc=False)\n",
    "\n",
    "print(\"emo vs rest\")\n",
    "X = X_org\n",
    "Y = tweak_labels(Y_org, [\"positive\", \"negative\"])\n",
    "train_model(create_union_model, X, Y, prc=False)\n",
    "\n",
    "print(\"pos vs rest\")\n",
    "X = X_org\n",
    "Y = tweak_labels(Y_org, [\"positive\"])\n",
    "train_model(create_union_model, X, Y, prc=False)\n",
    "\n",
    "print(\"neg vs rest\")\n",
    "X = X_org\n",
    "Y = tweak_labels(Y_org, [\"negative\"])\n",
    "train_model(create_union_model, X, Y, prc=False)"
   ]
  },
  {
   "cell_type": "markdown",
   "metadata": {},
   "source": [
    "結果としては低いわけではないが，性能は努力のわりにそんなに変わらない．  \n",
    "ポジティブとそれ以外，ネガティブとそれ以外の分類器はそんなに使えなさそう．  \n",
    "その代わりに，まずツイートに感情が含まれるかどうかを判定し，そのあとでpos vs negを通すのが良さそう．  "
   ]
  },
  {
   "cell_type": "markdown",
   "metadata": {},
   "source": [
    "# まとめ\n",
    "ナイーブベイズの仕組みについて学び，その性能を見た．  \n",
    "ツイートされた文章にナイーブベイズを適用する方法を学び，ツイートの簡単な整形も行なった．  \n",
    "最後に，NLTKの品詞タグづけ機能を使うことでSentiWordNetのデータから単語のポジネガスコアを獲得し，それを分類に利用する方法も学んだ．"
   ]
  }
 ],
 "metadata": {
  "kernelspec": {
   "display_name": "Python 3",
   "language": "python",
   "name": "python3"
  },
  "language_info": {
   "codemirror_mode": {
    "name": "ipython",
    "version": 3
   },
   "file_extension": ".py",
   "mimetype": "text/x-python",
   "name": "python",
   "nbconvert_exporter": "python",
   "pygments_lexer": "ipython3",
   "version": "3.6.5"
  }
 },
 "nbformat": 4,
 "nbformat_minor": 2
}
